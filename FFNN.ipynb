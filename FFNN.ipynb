{
 "cells": [
  {
   "cell_type": "code",
   "execution_count": null,
   "metadata": {
    "colab": {
     "base_uri": "https://localhost:8080/"
    },
    "id": "OKulu5ZTD9Za",
    "outputId": "de07b580-3eae-4eb8-edba-3bc91c5db867"
   },
   "outputs": [
    {
     "name": "stdout",
     "output_type": "stream",
     "text": [
      "Mounted at /content/drive\n"
     ]
    }
   ],
   "source": [
    "from google.colab import drive\n",
    "drive.mount('/content/drive')"
   ]
  },
  {
   "cell_type": "code",
   "execution_count": 1,
   "metadata": {
    "colab": {
     "base_uri": "https://localhost:8080/"
    },
    "id": "1m_3WUVBEEFP",
    "outputId": "f4a0a1b4-2d69-404c-9784-f7bb6846278d"
   },
   "outputs": [
    {
     "name": "stdout",
     "output_type": "stream",
     "text": [
      "Loading Data...\n",
      "Data Loaded Successfully...\n",
      "Loading Data...\n",
      "Data Loaded Successfully...\n",
      "(10000, 784) (10000, 10)\n"
     ]
    }
   ],
   "source": [
    "from sklearn.decomposition import PCA\n",
    "import numpy as np\n",
    "from keras.datasets import fashion_mnist\n",
    "from sklearn.model_selection import train_test_split\n",
    "from scipy.special import expit, logit\n",
    "import pandas as pd\n",
    "\n",
    "def One_Hot_Encoding(y, n_classes):\n",
    "    arr = np.zeros((y.shape[0],n_classes))\n",
    "    for i in range(y.shape[0]):\n",
    "        e = [0.0]*n_classes\n",
    "        e[y[i]] = 1.0\n",
    "        arr[i] = e\n",
    "    return arr\n",
    "\n",
    "\n",
    "def Get_Data(file, data, normalise = True, mean=0, std=1):\n",
    "    print('Loading Data...')\n",
    "    n_classes = 10\n",
    "    \n",
    "    df = pd.read_csv(file)\n",
    "    \n",
    "    df = df.iloc[np.random.permutation(len(df))]\n",
    "    \n",
    "    ##img_id = df['id']\n",
    "    \n",
    "    X = df[df.columns[0:-1]]\n",
    "  \n",
    "    \n",
    "    if data == 'train':\n",
    "        mean = X.mean(axis=0)\n",
    "        std  = X.std(axis = 0)\n",
    "    \n",
    "    if normalise == True:\n",
    "      X = normaliseData(X, mean, std)\n",
    "    \n",
    "    X = X.values\n",
    "  \n",
    "    Y = df['label'].values\n",
    "    \n",
    "    \n",
    "    print('Data Loaded Successfully...')\n",
    "    \n",
    "    return (X, One_Hot_Encoding(Y, n_classes), mean, std)\n",
    "def normaliseData(X, mean, std):\n",
    "    X = X - mean\n",
    "    X = X/std\n",
    "    return X\n",
    "\n",
    "\n",
    "\n",
    "\n",
    "(X_train, Y_train, train_mean, train_std)=Get_Data('fashion-mnist_train.csv', data = 'train', normalise = True )\n",
    "\n",
    "X_Train, X_Valid, Y_Train, Y_Valid = train_test_split(X_train, Y_train, test_size=0.10, random_state=42)\n",
    "(X_Test, Y_Test, train_mean, train_std)=Get_Data('fashion-mnist_test.csv', data = 'train', normalise = True )\n",
    "\n",
    "print(X_Test.shape,Y_Test.shape)\n"
   ]
  },
  {
   "cell_type": "code",
   "execution_count": 2,
   "metadata": {
    "colab": {
     "base_uri": "https://localhost:8080/"
    },
    "id": "eVmu-uysN9E9",
    "outputId": "903679ec-0946-49e6-df6a-c10bc0d64eee",
    "scrolled": false
   },
   "outputs": [],
   "source": [
    "import wandb\n",
    "from re import X\n",
    "import numpy as np\n",
    "import warnings\n",
    "from sklearn.metrics import log_loss\n",
    "from scipy.special import expit, logit\n",
    "from sklearn.metrics import mean_squared_error\n",
    "warnings.filterwarnings(\"ignore\", category=np.VisibleDeprecationWarning) \n",
    "class Feed_Forward_NeuralNetwork(object):\n",
    "  number_of_neurons=[]\n",
    "  number_of_layers=0\n",
    "  Biases=[]\n",
    "  Weights=[]\n",
    "  Activation_gx=[]\n",
    "  Layer_Output=[]\n",
    "  Layer_Input=[]\n",
    "  Loss_Function=\"\"\n",
    "\n",
    "  def __init__(self,Layers,Activations,Loss_Funciton=\"CE\",seed=8790,Weight_init='Random'):\n",
    "    self.number_of_layers=len(Layers)\n",
    "    self.number_of_neurons=Layers\n",
    "    self.Activation_gx=Activations\n",
    "    self.Loss_Function=Loss_Funciton\n",
    "    if Weight_init=='Xavier':\n",
    "      self.Weights=[np.random.randn(sizej,sizei)*np.sqrt(1/(sizei)) for sizei,sizej in zip(self.number_of_neurons[:-1],self.number_of_neurons[1:])]  \n",
    "    else:\n",
    "      self.Weights=[np.random.randn(sizej,sizei)*np.sqrt(2/(sizei+sizej)) for sizei,sizej in zip(self.number_of_neurons[:-1],self.number_of_neurons[1:])]\n",
    "    self.Biases=[np.zeros((x,1)) for x in self.number_of_neurons[1:]]\n",
    "    \n",
    "\n",
    "\n",
    "  def Sigmoid(self,x):\n",
    "    return  expit(x)\n",
    "  def stable_softmax(self,x):\n",
    "    out = np.zeros(x.shape)\n",
    "    for i in range(0, x.shape[1]):\n",
    "      exps = np.exp(x[:, i] - np.max(x[:, i]))\n",
    "      out[:, i] = exps / np.sum( exps)\n",
    "    return out\n",
    "  def Sigmoid_Drv(self, x):\n",
    "    sigma_x = self.Sigmoid(x)\n",
    "    return (sigma_x * (1 - sigma_x))\n",
    "  def Relu(self,x):\n",
    "    return np.maximum(0,x,x)\n",
    "  def Tanh(self,x):\n",
    "    return np.tanh(x)\n",
    "  def Tanh_Drv(self, x):\n",
    "    tanh_x = np.tanh(x)\n",
    "    return (1 - np.square(tanh_x))\n",
    "  def Relu_Drv(self, x):\n",
    "    return np.greater(x,0).astype(int)\n",
    "\n",
    "\n",
    "  def Feed_Network(self,X_train):\n",
    "    self.Layer_Input=[]\n",
    "    self.Layer_Output=[]\n",
    "    Weights=self.Weights\n",
    "    biases=self.Biases\n",
    "    no_of_datapoints=X_train.shape[0]\n",
    "    no_of_features=X_train.shape[1]\n",
    "    Temp=[]\n",
    "    Activations=[]\n",
    "\n",
    "    for i in range(0,self.number_of_layers-1):\n",
    "\n",
    "      if i==0:\n",
    "        Temp.append(np.matmul(Weights[i],X_train.T)+biases[i])\n",
    "      else:\n",
    "        Temp.append(np.matmul(Weights[i],Activations[i-1])+biases[i])\n",
    "      \n",
    "      self.Layer_Input.append(Temp[i])\n",
    "\n",
    "\n",
    "      if (self.Activation_gx[i]=='SoftMax') and (i == self.number_of_layers-2):\n",
    "        Activations.append(self.stable_softmax(Temp[i]))\n",
    "      elif self.Activation_gx[i]=='Tanh':\n",
    "        Activations.append(self.Tanh(Temp[i]))\n",
    "      elif self.Activation_gx[i]=='Sigmoid':\n",
    "        Activations.append(self.Sigmoid(Temp[i]))\n",
    "      elif self.Activation_gx[i]=='Relu':\n",
    "        Activations.append(self.Relu(Temp[i]))\n",
    "      \n",
    "\n",
    "\n",
    "\n",
    "      self.Layer_Output.append(Activations[i])\n",
    "    return self.Layer_Output[-1]\n",
    "\n",
    "  def Backward_Pass(self,X_train,Y_train):\n",
    "    Gredient_wrt_weight=[0]*(len(self.Weights))\n",
    "    Gradient_wrt_biases=[0]*(len(self.Biases))\n",
    "    Gradient_wrt_layers=[0]*(self.number_of_layers-1)\n",
    "    n=X_train.shape[0]\n",
    "\n",
    "\n",
    "    for i in reversed(range(self.number_of_layers-1)):\n",
    "      if i == self.number_of_layers-2:\n",
    "        if self.Loss_Function=='CE':\n",
    "          Gradient_wrt_layers[i]=self.Layer_Output[i]-Y_train.T\n",
    "        elif self.Loss_Function=='MSE':\n",
    "          Gradient_wrt_layers[i]=(self.Layer_Output[i]-Y_train.T)*self.Layer_Output[i]*(1-self.Layer_Output[i])\n",
    "\n",
    "        Gredient_wrt_weight[i]=(1/n)*np.matmul(Gradient_wrt_layers[i],self.Layer_Output[i-1].T)\n",
    "        Gradient_wrt_biases[i]=(1/n)*np.sum(Gradient_wrt_layers[i],axis=1,keepdims=True)\n",
    "      else:\n",
    "        activation_derivative=[]\n",
    "        if self.Activation_gx[i]=='Tanh':\n",
    "          activation_derivative=self.Tanh_Drv(Gradient_wrt_layers[i])\n",
    "        elif self.Activation_gx[i]=='Sigmoid':\n",
    "          activation_derivative=self.Sigmoid_Drv(Gradient_wrt_layers[i])\n",
    "        elif self.Activation_gx[i]=='Relu':\n",
    "          activation_derivative=self.Relu_Drv(Gradient_wrt_layers[i])\n",
    "        \n",
    "        Gradient_wrt_layers[i]=np.matmul(self.Weights[i+1].T,Gradient_wrt_layers[i+1])*activation_derivative#self.Tanh_Drv(Gradient_wrt_layers[i])\n",
    "        \n",
    "        if i==0:\n",
    "          Gredient_wrt_weight[i]=(1/n)*np.matmul(Gradient_wrt_layers[i],X_train)\n",
    "        else:\n",
    "          Gredient_wrt_weight[i]=(1/n)*np.matmul(Gradient_wrt_layers[i],self.Layer_Output[i-1].T)\n",
    "        \n",
    "        Gradient_wrt_biases[i]=(1/n)*np.sum(Gradient_wrt_layers[i],axis=1,keepdims=True)\n",
    "    return (Gradient_wrt_biases,Gredient_wrt_weight,Gradient_wrt_layers)\n",
    "\n",
    "  def Get_Accuracy(self,y,y_pred):\n",
    "    P=np.argmax(y,axis=0)\n",
    "    Q=np.argmax(y_pred,axis=0)\n",
    "    acc=np.sum(P == Q)/len(P)\n",
    "    return 100*acc\n",
    "  def GD(self,Grd_w,Grd_b,Eta):\n",
    "    return (np.multiply(Eta,Grd_w),np.multiply(Eta,Grd_b))\n",
    "  def Momentum(self,Momentum,Grd_w,Grd_b,Eta,prev_w,prev_b):\n",
    "    upd_weight=np.multiply(Momentum,prev_w)+np.multiply(Eta,Grd_w)\n",
    "    upd_biases=np.multiply(Momentum,prev_b)+np.multiply(Eta,Grd_b)\n",
    "    return (upd_weight,upd_biases)\n",
    "  def RMSprop(self,Grd_w,Grd_b,Eta):\n",
    "    w_v,b_v=0,0\n",
    "    eps=1e-3\n",
    "    beta=0.9\n",
    "    w_v=np.multiply(beta,w_v)\n",
    "    b_v=np.multiply(beta,b_v)\n",
    "    w_v=w_v+np.multiply(1-beta,np.power(Grd_w,2))\n",
    "    b_v=b_v+np.multiply(1-beta,np.power(Grd_b,2))\n",
    "    w_v_corrected=1/(np.power(w_v+eps,0.5))\n",
    "    b_v_corrected=1/(np.power(b_v+eps,0.5))\n",
    "    upd_w=np.multiply(w_v_corrected,Grd_w)*Eta\n",
    "    upd_b=np.multiply(b_v_corrected,Grd_b)*Eta\n",
    "    return (upd_w,upd_b)\n",
    "  def Adam(self,Grd_w,Grd_b,Eta,t):\n",
    "    w_m,b_m=0,0\n",
    "    w_v,b_v=0,0\n",
    "    beta1,beta2=0.9,0.99\n",
    "    eps=1e-8\n",
    "    w_v=np.multiply(beta2,w_v)\n",
    "    b_v=np.multiply(beta2,b_v)\n",
    "    w_v=w_v+np.multiply(1-beta2,np.power(Grd_w,2))\n",
    "    b_v=b_v+np.multiply(1-beta2,np.power(Grd_b,2))\n",
    "    w_v=w_v/(1-np.power(beta2,t+1))\n",
    "    b_v=b_v/(1-np.power(beta2,t+1))\n",
    "    w_m=np.multiply(beta1,w_m)\n",
    "    b_m=np.multiply(beta1,b_m)\n",
    "    w_m=w_m+np.multiply(1-beta1,Grd_w)\n",
    "    b_m=b_m+np.multiply(1-beta1,Grd_b)\n",
    "    w_m=w_m/(1-np.power(beta1,t+1))\n",
    "    b_m=b_m/(1-np.power(beta1,t+1))\n",
    "    upd_w=(Eta/np.power(w_v+eps,0.5))*w_m\n",
    "    upd_b=(Eta/np.power(b_v+eps,0.5))*b_m\n",
    "\n",
    "    return (upd_w,upd_b)\n",
    "  def Nadam(self,Grd_w,Grd_b,Eta,t):\n",
    "    w_m,b_m=0,0\n",
    "    w_v,b_v=0,0\n",
    "    beta1,beta2=0.9,0.99\n",
    "    eps=1e-8\n",
    "    w_v=np.multiply(beta2,w_v)\n",
    "    b_v=np.multiply(beta2,b_v)\n",
    "    w_v=w_v+np.multiply(1-beta2,np.power(Grd_w,2))\n",
    "    b_v=b_v+np.multiply(1-beta2,np.power(Grd_b,2))\n",
    "    w_m=np.multiply(beta1,w_m)\n",
    "    b_m=np.multiply(beta1,b_m)\n",
    "    w_m=w_m+np.multiply(1-beta1,Grd_w)\n",
    "    b_m=b_m+np.multiply(1-beta1,Grd_b)\n",
    "    w_m=np.multiply(beta1,w_m)/(1-beta1)+np.multiply(beta1,Grd_w)/(1-beta1)\n",
    "    b_m=np.multiply(beta1,b_m)/(1-beta1)+np.multiply(beta1,Grd_b)/(1-beta1)\n",
    "    w_v=np.multiply(np.multiply(beta2,w_v),1/(1-beta2))\n",
    "    b_v=np.multiply(np.multiply(beta2,b_v),1/(1-beta2))\n",
    "    upd_w=(Eta/np.power(w_v+eps,0.5))*w_m\n",
    "    upd_b=(Eta/np.power(b_v+eps,0.5))*b_m \n",
    "                                \n",
    "    return (upd_w,upd_b)\n",
    "  def Nag(self,gamma,Grd_w,Grd_b,Eta,prev_w,prev_b):\n",
    "    w_v,b_v=0,0\n",
    "    w_v=np.multiply(gamma,prev_w)+np.multiply(Eta,Grd_w)\n",
    "    b_v=np.multiply(gamma,prev_b)+np.multiply(Eta,Grd_b)\n",
    "    prev_w=w_v \n",
    "    prev_b=b_v\n",
    "    w_v=np.multiply(gamma,prev_w)\n",
    "    b_v=np.multiply(gamma,prev_b)\n",
    "    return w_v,b_v\n",
    "\n",
    "\n",
    "\n",
    "\n",
    "\n",
    "\n",
    "  def Main_Training_Algo(self,X_Valid,Y_Valid,X_Train,Y_Train,optimizer='Momentum',NEpochs=5,Batch_Size=16,Momentum=0.9,Eta=0.01,anneal=False):\n",
    "    etap=Eta\n",
    "    Loss_in_Validation=[]\n",
    "    Loss_in_Training=[]\n",
    "    update_weight=[]\n",
    "    update_biases=[]\n",
    "    prev_w=[np.zeros((sizej,sizei)) for sizei,sizej in zip(self.number_of_neurons[:-1],self.number_of_neurons[1:])]\n",
    "    prev_b=[np.zeros((x,1)) for x in self.number_of_neurons[1:]]\n",
    "    t=0\n",
    "    for Ep in range(NEpochs):\n",
    "      Loss_in_batch=0\n",
    "\n",
    "      for start in range(0,X_Train.shape[0],Batch_Size):\n",
    "\n",
    "        X_Train_curr_batch=X_Train[start:start+Batch_Size]\n",
    "        Y_Train_curr_batch=Y_Train[start:start+Batch_Size]\n",
    "        \n",
    "\n",
    "        Curr_Batch_Prediction=self.Feed_Network(X_Train_curr_batch)\n",
    "\n",
    "        (Gradient_wrt_biases,Gradient_wrt_weight,Gradient_wrt_layers)=self.Backward_Pass(X_Train_curr_batch,Y_Train_curr_batch)\n",
    "\n",
    "\n",
    "        if optimizer=='GD':\n",
    "          update_weight,update_biases=self.GD(Gradient_wrt_weight,Gradient_wrt_biases,Eta)\n",
    "        elif optimizer=='Momentum':\n",
    "          update_weight,update_biases=self.Momentum(Momentum,Gradient_wrt_weight,Gradient_wrt_biases,Eta,prev_w,prev_b)\n",
    "          prev_w=update_weight\n",
    "          prev_b=update_biases\n",
    "        elif optimizer=='RMSprop':\n",
    "          update_weight,update_biases=self.RMSprop(Gradient_wrt_weight,Gradient_wrt_biases,Eta)\n",
    "        elif optimizer=='Adam':\n",
    "          update_weight,update_biases=self.Adam(Gradient_wrt_weight,Gradient_wrt_biases,Eta,t)\n",
    "        elif optimizer=='Nadam':\n",
    "          update_weight,update_biases=self.Nadam(Gradient_wrt_weight,Gradient_wrt_biases,Eta,t)\n",
    "        elif optimizer=='Nag':\n",
    "          update_weight,update_biases=self.Nag(Momentum,Gradient_wrt_weight,Gradient_wrt_biases,Eta,prev_w,prev_b)\n",
    "          prev_w=update_weight\n",
    "          prev_b=update_biases\n",
    "          \n",
    "        t=t+1\n",
    "\n",
    "        \n",
    "        self.Weights=self.Weights-update_weight\n",
    "        self.Biases=self.Biases-update_biases\n",
    "        if anneal == True:\n",
    "          Eta = ((0.99)**(start+3.5))*etap\n",
    "\n",
    "        if self.Loss_Function=='CE':\n",
    "          Loss_in_batch=Loss_in_batch+log_loss(Y_Train_curr_batch.T,Curr_Batch_Prediction)\n",
    "        elif self.Loss_Function=='MSE':\n",
    "          Loss_in_batch=Loss_in_batch+(mean_squared_error(Y_Train_curr_batch.T,Curr_Batch_Prediction))          \n",
    "      \n",
    "\n",
    "      Loss_in_Training.append(Loss_in_batch)\n",
    "      Train_Prediction=self.Feed_Network(X_Train)\n",
    "      print(\"Epoch:\",Ep)\n",
    "      print(\"Train Accuracy\",self.Get_Accuracy(Y_Train.T,Train_Prediction))\n",
    "      print(\"Loss in Training\",Loss_in_Training[Ep])\n",
    "      \n",
    "      Validation_Predcition=self.Feed_Network(X_Valid)\n",
    "      if self.Loss_Function=='CE':\n",
    "        Loss_in_Validation.append(log_loss(Y_Valid.T,Validation_Predcition))\n",
    "      elif self.Loss_Function=='MSE':\n",
    "        Loss_in_Validation.append(mean_squared_error(Y_Valid.T,Validation_Predcition))\n",
    "      print(\"Validation Accuracy\",self.Get_Accuracy(Y_Valid.T,Validation_Predcition))\n",
    "      print(\"Loss in Validation\",Loss_in_Validation[Ep])\n",
    "      wandb.log({\"val_loss_end\": Loss_in_Training[Ep]/10000, \\\n",
    "                       \"val_acc_end\": self.Get_Accuracy(Y_Train.T,Train_Prediction), \\\n",
    "                       \"test_loss_end\": Loss_in_Validation[Ep]/10000, \\\n",
    "                       \"test_acc_end\": self.Get_Accuracy(Y_Valid.T,Validation_Predcition), \\\n",
    "                       \"epoch\":Ep})\n",
    "\n",
    "\n",
    "\n",
    "# n_classes = 10\n",
    "# wandb.init()\n",
    "# loss_function = 'CE'\n",
    "# seed =8790\n",
    "# Activation_gx = ['Tanh', 'Tanh','Tanh','Tanh', 'SoftMax']     #Activation Fucntion used for hidden layer are {Tanh,Relu,Sigmoid}\n",
    "# neurons = 128\n",
    "# Layers = [784, neurons,neurons ,neurons,neurons, n_classes]\n",
    "# #Weight_init=\"Xavier\"\n",
    "# Weight_init=\"Random\"\n",
    "# Network=Feed_Forward_NeuralNetwork(Layers,Activation_gx,loss_function,seed,Weight_init)\n",
    "# #optimizer used are {Momentum,Nag,Adam,Nadam,GD,RMSprop}\n",
    "# print(Network.Main_Training_Algo(X_Valid,Y_Valid,X_Train,Y_Train,optimizer='Momentum',NEpochs=10,Batch_Size=16,Momentum=0.9,Eta=0.001,anneal=True))\n",
    "# Y_test_pred=Network.Feed_Network(X_Test)\n",
    "# print(\"Test Acc:\", Network.Get_Accuracy(Y_Test.T,Y_test_pred))\n",
    "# print(\"Loss In Test\",log_loss(Y_Test.T,Y_test_pred))\n",
    "\n",
    "    \n",
    "\n"
   ]
  },
  {
   "cell_type": "code",
   "execution_count": 3,
   "metadata": {},
   "outputs": [],
   "source": [
    "def only():\n",
    "    sweep_config = {\"name\": \"complete-sweep\", \"method\": \"grid\"}\n",
    "    sweep_config[\"metric\"] = {\"name\": \"accuracy\", \"goal\": \"minimize\"}\n",
    "    parameters_dict = {\n",
    "                    \"num_epochs\": {\"values\": [10]}, \\\n",
    "                     \"num_hidden_layers\": {\"values\": [4]}, \\\n",
    "                    \"size_hidden_layer\": {\"values\": [32, 64, 128]}, \\\n",
    "                    \"learning_rate\": {\"values\": [1e-3, 1e-4]}, \\\n",
    "                    \"optimizer\": {\"values\": [\"GD\",\"Momentum\",\"Nag\",\"RMSProp\",\"Adam\",\"Nadam\"]}, \\\n",
    "                    \"batch_size\": {\"values\": [160, 320, 640]}, \\\n",
    "                    \"weight_init\": {\"values\": [\"Random\", \"Xavier\"]} , \\\n",
    "                    \"activation\": {\"values\": [\"Tanh\", \"Relu\",\"Sigmoid\"]}, \\\n",
    "                    \"loss\": {\"values\": [\"CE\", \"MSE\"]}, \\\n",
    "                      }\n",
    "    sweep_config[\"parameters\"] = parameters_dict\n",
    "    global accuracy\n",
    "    accuracy=0\n",
    "    def train_nn(config = sweep_config):\n",
    "        global accuracy\n",
    "        with wandb.init(config = config):\n",
    "            config = wandb.init().config\n",
    "            wandb.run.name = \"e_{}_hl_{}_opt_{}_bs_{}_init_{}_ac_{}_loss_{}\".format(config.num_epochs,\\\n",
    "                                                                          config.size_hidden_layer,\\\n",
    "                                                                          config.optimizer,\\\n",
    "                                                                          config.batch_size,\\\n",
    "                                                                          config.weight_init,\\\n",
    "                                                                          config.activation,\\\n",
    "                                                                          accuracy)\n",
    "\n",
    "\n",
    "\n",
    "\n",
    "\n",
    "\n",
    "            n_classes = 10\n",
    "            seed =8790\n",
    "            loss_function = config.loss\n",
    "            Activation_gx = [config.activation, config.activation,config.activation,config.activation, 'SoftMax']\n",
    "            neurons =config.size_hidden_layer\n",
    "            Layers = [784, neurons,neurons ,neurons,neurons, n_classes]\n",
    "            Network=Feed_Forward_NeuralNetwork(Layers,Activation_gx,loss_function,seed,config.weight_init) \n",
    "            Network.Main_Training_Algo(X_Valid,Y_Valid,X_Train,Y_Train,config.optimizer,config.num_epochs,config.batch_size,config.learning_rate,0.001,anneal=True)\n",
    "            Validation_Predcition=Network.Feed_Network(X_Valid)\n",
    "            accuracy=Network.Get_Accuracy(Y_Valid.T,Validation_Predcition)\n",
    "\n",
    "            wandb.log({\"accuracy\": accuracy})\n",
    "            #wandb.log({\"accuracy\": accuracy, \"validation_accuracy\": val_acc, \"training_loss\": cost, \"validation cost\": val_cost, 'epoch': count})\n",
    "\n",
    "    sweep_id = wandb.sweep(sweep_config, project = \"Detail-1\")\n",
    "    wandb.agent(sweep_id, function = train_nn)\n",
    "\n",
    "\n",
    "\n"
   ]
  },
  {
   "cell_type": "code",
   "execution_count": null,
   "metadata": {
    "scrolled": false
   },
   "outputs": [
    {
     "name": "stdout",
     "output_type": "stream",
     "text": [
      "Create sweep with ID: e8k0srji\n",
      "Sweep URL: https://wandb.ai/vishal91099/Detail-1/sweeps/e8k0srji\n"
     ]
    },
    {
     "name": "stderr",
     "output_type": "stream",
     "text": [
      "\u001b[34m\u001b[1mwandb\u001b[0m: Agent Starting Run: o87zfz7z with config:\n",
      "\u001b[34m\u001b[1mwandb\u001b[0m: \tactivation: Tanh\n",
      "\u001b[34m\u001b[1mwandb\u001b[0m: \tbatch_size: 160\n",
      "\u001b[34m\u001b[1mwandb\u001b[0m: \tlearning_rate: 0.001\n",
      "\u001b[34m\u001b[1mwandb\u001b[0m: \tloss: CE\n",
      "\u001b[34m\u001b[1mwandb\u001b[0m: \tnum_epochs: 10\n",
      "\u001b[34m\u001b[1mwandb\u001b[0m: \tnum_hidden_layers: 4\n",
      "\u001b[34m\u001b[1mwandb\u001b[0m: \toptimizer: GD\n",
      "\u001b[34m\u001b[1mwandb\u001b[0m: \tsize_hidden_layer: 32\n",
      "\u001b[34m\u001b[1mwandb\u001b[0m: \tweight_init: RandomNormal\n",
      "\u001b[34m\u001b[1mwandb\u001b[0m: Currently logged in as: \u001b[33mvishal91099\u001b[0m (use `wandb login --relogin` to force relogin)\n"
     ]
    },
    {
     "data": {
      "text/html": [
       "\n",
       "                    Syncing run <strong><a href=\"https://wandb.ai/vishal91099/Detail-1/runs/o87zfz7z\" target=\"_blank\">giddy-sweep-1</a></strong> to <a href=\"https://wandb.ai/vishal91099/Detail-1\" target=\"_blank\">Weights & Biases</a> (<a href=\"https://docs.wandb.com/integrations/jupyter.html\" target=\"_blank\">docs</a>).<br/>\n",
       "Sweep page: <a href=\"https://wandb.ai/vishal91099/Detail-1/sweeps/e8k0srji\" target=\"_blank\">https://wandb.ai/vishal91099/Detail-1/sweeps/e8k0srji</a><br/>\n",
       "\n",
       "                "
      ],
      "text/plain": [
       "<IPython.core.display.HTML object>"
      ]
     },
     "metadata": {},
     "output_type": "display_data"
    },
    {
     "data": {
      "text/html": [
       "Finishing last run (ID:o87zfz7z) before initializing another..."
      ],
      "text/plain": [
       "<IPython.core.display.HTML object>"
      ]
     },
     "metadata": {},
     "output_type": "display_data"
    },
    {
     "data": {
      "text/html": [
       "<br/>Waiting for W&B process to finish, PID 16780... <strong style=\"color:green\">(success).</strong>"
      ],
      "text/plain": [
       "<IPython.core.display.HTML object>"
      ]
     },
     "metadata": {},
     "output_type": "display_data"
    },
    {
     "data": {
      "application/vnd.jupyter.widget-view+json": {
       "model_id": "",
       "version_major": 2,
       "version_minor": 0
      },
      "text/plain": [
       "VBox(children=(Label(value=' 0.00MB of 0.00MB uploaded (0.00MB deduped)\\r'), FloatProgress(value=1.0, max=1.0)…"
      ]
     },
     "metadata": {},
     "output_type": "display_data"
    },
    {
     "data": {
      "text/html": [
       "<style>\n",
       "    table.wandb td:nth-child(1) { padding: 0 10px; text-align: right }\n",
       "    .wandb-row { display: flex; flex-direction: row; flex-wrap: wrap; width: 100% }\n",
       "    .wandb-col { display: flex; flex-direction: column; flex-basis: 100%; flex: 1; padding: 10px; }\n",
       "    </style>\n",
       "<div class=\"wandb-row\"><div class=\"wandb-col\">\n",
       "</div><div class=\"wandb-col\">\n",
       "</div></div>\n",
       "Synced 4 W&B file(s), 0 media file(s), 0 artifact file(s) and 0 other file(s)\n",
       "<br/>Synced <strong style=\"color:#cdcd00\">giddy-sweep-1</strong>: <a href=\"https://wandb.ai/vishal91099/Detail-1/runs/o87zfz7z\" target=\"_blank\">https://wandb.ai/vishal91099/Detail-1/runs/o87zfz7z</a><br/>\n",
       "Find logs at: <code>.\\wandb\\run-20220224_133929-o87zfz7z\\logs</code><br/>\n"
      ],
      "text/plain": [
       "<IPython.core.display.HTML object>"
      ]
     },
     "metadata": {},
     "output_type": "display_data"
    },
    {
     "data": {
      "text/html": [
       "Successfully finished last run (ID:o87zfz7z). Initializing new run:<br/>"
      ],
      "text/plain": [
       "<IPython.core.display.HTML object>"
      ]
     },
     "metadata": {},
     "output_type": "display_data"
    },
    {
     "data": {
      "text/html": [
       "\n",
       "                    Syncing run <strong><a href=\"https://wandb.ai/vishal91099/Detail-1/runs/o87zfz7z\" target=\"_blank\">giddy-sweep-1</a></strong> to <a href=\"https://wandb.ai/vishal91099/Detail-1\" target=\"_blank\">Weights & Biases</a> (<a href=\"https://docs.wandb.com/integrations/jupyter.html\" target=\"_blank\">docs</a>).<br/>\n",
       "Sweep page: <a href=\"https://wandb.ai/vishal91099/Detail-1/sweeps/e8k0srji\" target=\"_blank\">https://wandb.ai/vishal91099/Detail-1/sweeps/e8k0srji</a><br/>\n",
       "\n",
       "                "
      ],
      "text/plain": [
       "<IPython.core.display.HTML object>"
      ]
     },
     "metadata": {},
     "output_type": "display_data"
    },
    {
     "name": "stdout",
     "output_type": "stream",
     "text": [
      "Epoch: 0\n",
      "Train Accuracy 7.275925925925926\n",
      "Loss in Training 27930.001621683732\n",
      "Validation Accuracy 6.9\n",
      "Loss in Validation 5283.677280955681\n",
      "Epoch: 1\n",
      "Train Accuracy 7.546296296296297\n",
      "Loss in Training 27875.03117257285\n",
      "Validation Accuracy 7.35\n",
      "Loss in Validation 5277.478024584563\n",
      "Epoch: 2\n",
      "Train Accuracy 7.842592592592593\n",
      "Loss in Training 27820.788206385383\n",
      "Validation Accuracy 7.6499999999999995\n",
      "Loss in Validation 5271.3428833969365\n",
      "Epoch: 3\n",
      "Train Accuracy 8.15\n",
      "Loss in Training 27767.133345128936\n",
      "Validation Accuracy 7.983333333333334\n",
      "Loss in Validation 5265.273677949695\n",
      "Epoch: 4\n",
      "Train Accuracy 8.437037037037037\n",
      "Loss in Training 27714.08025243628\n",
      "Validation Accuracy 8.316666666666666\n",
      "Loss in Validation 5259.272081068377\n",
      "Epoch: 5\n",
      "Train Accuracy 8.698148148148148\n",
      "Loss in Training 27661.64129837145\n",
      "Validation Accuracy 8.566666666666666\n",
      "Loss in Validation 5253.339605805866\n",
      "Epoch: 6\n",
      "Train Accuracy 9.007407407407406\n",
      "Loss in Training 27609.82746680383\n",
      "Validation Accuracy 8.866666666666667\n",
      "Loss in Validation 5247.477595091225\n",
      "Epoch: 7\n",
      "Train Accuracy 9.275925925925927\n",
      "Loss in Training 27558.64828180549\n",
      "Validation Accuracy 9.15\n",
      "Loss in Validation 5241.687213436962\n",
      "Epoch: 8\n",
      "Train Accuracy 9.575925925925926\n",
      "Loss in Training 27508.1117554217\n",
      "Validation Accuracy 9.383333333333335\n",
      "Loss in Validation 5235.969441002893\n",
      "Epoch: 9\n",
      "Train Accuracy 9.894444444444444\n",
      "Loss in Training 27458.224358205687\n",
      "Validation Accuracy 9.683333333333334\n",
      "Loss in Validation 5230.32507022719\n"
     ]
    },
    {
     "name": "stderr",
     "output_type": "stream",
     "text": [
      "\u001b[34m\u001b[1mwandb\u001b[0m: Agent Starting Run: kdaz9nxu with config:\n",
      "\u001b[34m\u001b[1mwandb\u001b[0m: \tactivation: Tanh\n",
      "\u001b[34m\u001b[1mwandb\u001b[0m: \tbatch_size: 160\n",
      "\u001b[34m\u001b[1mwandb\u001b[0m: \tlearning_rate: 0.001\n",
      "\u001b[34m\u001b[1mwandb\u001b[0m: \tloss: CE\n",
      "\u001b[34m\u001b[1mwandb\u001b[0m: \tnum_epochs: 10\n",
      "\u001b[34m\u001b[1mwandb\u001b[0m: \tnum_hidden_layers: 4\n",
      "\u001b[34m\u001b[1mwandb\u001b[0m: \toptimizer: GD\n",
      "\u001b[34m\u001b[1mwandb\u001b[0m: \tsize_hidden_layer: 32\n",
      "\u001b[34m\u001b[1mwandb\u001b[0m: \tweight_init: Xavier\n"
     ]
    },
    {
     "data": {
      "text/html": [
       "\n",
       "                    Syncing run <strong><a href=\"https://wandb.ai/vishal91099/Detail-1/runs/kdaz9nxu\" target=\"_blank\">cosmic-sweep-2</a></strong> to <a href=\"https://wandb.ai/vishal91099/Detail-1\" target=\"_blank\">Weights & Biases</a> (<a href=\"https://docs.wandb.com/integrations/jupyter.html\" target=\"_blank\">docs</a>).<br/>\n",
       "Sweep page: <a href=\"https://wandb.ai/vishal91099/Detail-1/sweeps/e8k0srji\" target=\"_blank\">https://wandb.ai/vishal91099/Detail-1/sweeps/e8k0srji</a><br/>\n",
       "\n",
       "                "
      ],
      "text/plain": [
       "<IPython.core.display.HTML object>"
      ]
     },
     "metadata": {},
     "output_type": "display_data"
    },
    {
     "data": {
      "text/html": [
       "Finishing last run (ID:kdaz9nxu) before initializing another..."
      ],
      "text/plain": [
       "<IPython.core.display.HTML object>"
      ]
     },
     "metadata": {},
     "output_type": "display_data"
    },
    {
     "data": {
      "text/html": [
       "<br/>Waiting for W&B process to finish, PID 1676... <strong style=\"color:green\">(success).</strong>"
      ],
      "text/plain": [
       "<IPython.core.display.HTML object>"
      ]
     },
     "metadata": {},
     "output_type": "display_data"
    },
    {
     "data": {
      "application/vnd.jupyter.widget-view+json": {
       "model_id": "",
       "version_major": 2,
       "version_minor": 0
      },
      "text/plain": [
       "VBox(children=(Label(value=' 0.00MB of 0.00MB uploaded (0.00MB deduped)\\r'), FloatProgress(value=1.0, max=1.0)…"
      ]
     },
     "metadata": {},
     "output_type": "display_data"
    },
    {
     "data": {
      "text/html": [
       "<style>\n",
       "    table.wandb td:nth-child(1) { padding: 0 10px; text-align: right }\n",
       "    .wandb-row { display: flex; flex-direction: row; flex-wrap: wrap; width: 100% }\n",
       "    .wandb-col { display: flex; flex-direction: column; flex-basis: 100%; flex: 1; padding: 10px; }\n",
       "    </style>\n",
       "<div class=\"wandb-row\"><div class=\"wandb-col\">\n",
       "</div><div class=\"wandb-col\">\n",
       "</div></div>\n",
       "Synced 4 W&B file(s), 0 media file(s), 0 artifact file(s) and 0 other file(s)\n",
       "<br/>Synced <strong style=\"color:#cdcd00\">cosmic-sweep-2</strong>: <a href=\"https://wandb.ai/vishal91099/Detail-1/runs/kdaz9nxu\" target=\"_blank\">https://wandb.ai/vishal91099/Detail-1/runs/kdaz9nxu</a><br/>\n",
       "Find logs at: <code>.\\wandb\\run-20220224_134127-kdaz9nxu\\logs</code><br/>\n"
      ],
      "text/plain": [
       "<IPython.core.display.HTML object>"
      ]
     },
     "metadata": {},
     "output_type": "display_data"
    },
    {
     "data": {
      "text/html": [
       "Successfully finished last run (ID:kdaz9nxu). Initializing new run:<br/>"
      ],
      "text/plain": [
       "<IPython.core.display.HTML object>"
      ]
     },
     "metadata": {},
     "output_type": "display_data"
    },
    {
     "data": {
      "text/html": [
       "\n",
       "                    Syncing run <strong><a href=\"https://wandb.ai/vishal91099/Detail-1/runs/kdaz9nxu\" target=\"_blank\">cosmic-sweep-2</a></strong> to <a href=\"https://wandb.ai/vishal91099/Detail-1\" target=\"_blank\">Weights & Biases</a> (<a href=\"https://docs.wandb.com/integrations/jupyter.html\" target=\"_blank\">docs</a>).<br/>\n",
       "Sweep page: <a href=\"https://wandb.ai/vishal91099/Detail-1/sweeps/e8k0srji\" target=\"_blank\">https://wandb.ai/vishal91099/Detail-1/sweeps/e8k0srji</a><br/>\n",
       "\n",
       "                "
      ],
      "text/plain": [
       "<IPython.core.display.HTML object>"
      ]
     },
     "metadata": {},
     "output_type": "display_data"
    },
    {
     "name": "stdout",
     "output_type": "stream",
     "text": [
      "Epoch: 0\n",
      "Train Accuracy 15.838888888888889\n",
      "Loss in Training 27188.817701257125\n",
      "Validation Accuracy 15.916666666666668\n",
      "Loss in Validation 5194.227643014232\n",
      "Epoch: 1\n",
      "Train Accuracy 16.596296296296295\n",
      "Loss in Training 27135.537646756784\n",
      "Validation Accuracy 16.633333333333333\n",
      "Loss in Validation 5188.290620972315\n",
      "Epoch: 2\n",
      "Train Accuracy 17.353703703703705\n",
      "Loss in Training 27083.97099650592\n",
      "Validation Accuracy 17.349999999999998\n",
      "Loss in Validation 5182.532938102949\n",
      "Epoch: 3\n",
      "Train Accuracy 18.022222222222222\n",
      "Loss in Training 27033.92868764637\n",
      "Validation Accuracy 18.05\n",
      "Loss in Validation 5176.950300111303\n",
      "Epoch: 4\n",
      "Train Accuracy 18.75925925925926\n",
      "Loss in Training 26985.369045363284\n",
      "Validation Accuracy 18.71666666666667\n",
      "Loss in Validation 5171.537624740253\n",
      "Epoch: 5\n",
      "Train Accuracy 19.461111111111112\n",
      "Loss in Training 26938.245226685543\n",
      "Validation Accuracy 19.28333333333333\n",
      "Loss in Validation 5166.289271230415\n",
      "Epoch: 6\n",
      "Train Accuracy 20.053703703703704\n",
      "Loss in Training 26892.506962567008\n",
      "Validation Accuracy 19.866666666666667\n",
      "Loss in Validation 5161.199237638613\n",
      "Epoch: 7\n",
      "Train Accuracy 20.703703703703706\n",
      "Loss in Training 26848.102010074083\n",
      "Validation Accuracy 20.549999999999997\n",
      "Loss in Validation 5156.261325547313\n",
      "Epoch: 8\n",
      "Train Accuracy 21.303703703703704\n",
      "Loss in Training 26804.977329039466\n",
      "Validation Accuracy 21.066666666666666\n",
      "Loss in Validation 5151.469273508743\n",
      "Epoch: 9\n",
      "Train Accuracy 21.885185185185186\n",
      "Loss in Training 26763.080009048932\n",
      "Validation Accuracy 21.616666666666667\n",
      "Loss in Validation 5146.816861828466\n"
     ]
    },
    {
     "name": "stderr",
     "output_type": "stream",
     "text": [
      "\u001b[34m\u001b[1mwandb\u001b[0m: Agent Starting Run: 8fpzplw1 with config:\n",
      "\u001b[34m\u001b[1mwandb\u001b[0m: \tactivation: Tanh\n",
      "\u001b[34m\u001b[1mwandb\u001b[0m: \tbatch_size: 160\n",
      "\u001b[34m\u001b[1mwandb\u001b[0m: \tlearning_rate: 0.001\n",
      "\u001b[34m\u001b[1mwandb\u001b[0m: \tloss: CE\n",
      "\u001b[34m\u001b[1mwandb\u001b[0m: \tnum_epochs: 10\n",
      "\u001b[34m\u001b[1mwandb\u001b[0m: \tnum_hidden_layers: 4\n",
      "\u001b[34m\u001b[1mwandb\u001b[0m: \toptimizer: GD\n",
      "\u001b[34m\u001b[1mwandb\u001b[0m: \tsize_hidden_layer: 64\n",
      "\u001b[34m\u001b[1mwandb\u001b[0m: \tweight_init: RandomNormal\n"
     ]
    },
    {
     "data": {
      "text/html": [
       "\n",
       "                    Syncing run <strong><a href=\"https://wandb.ai/vishal91099/Detail-1/runs/8fpzplw1\" target=\"_blank\">azure-sweep-3</a></strong> to <a href=\"https://wandb.ai/vishal91099/Detail-1\" target=\"_blank\">Weights & Biases</a> (<a href=\"https://docs.wandb.com/integrations/jupyter.html\" target=\"_blank\">docs</a>).<br/>\n",
       "Sweep page: <a href=\"https://wandb.ai/vishal91099/Detail-1/sweeps/e8k0srji\" target=\"_blank\">https://wandb.ai/vishal91099/Detail-1/sweeps/e8k0srji</a><br/>\n",
       "\n",
       "                "
      ],
      "text/plain": [
       "<IPython.core.display.HTML object>"
      ]
     },
     "metadata": {},
     "output_type": "display_data"
    },
    {
     "data": {
      "text/html": [
       "Finishing last run (ID:8fpzplw1) before initializing another..."
      ],
      "text/plain": [
       "<IPython.core.display.HTML object>"
      ]
     },
     "metadata": {},
     "output_type": "display_data"
    },
    {
     "data": {
      "text/html": [
       "<br/>Waiting for W&B process to finish, PID 1244... <strong style=\"color:green\">(success).</strong>"
      ],
      "text/plain": [
       "<IPython.core.display.HTML object>"
      ]
     },
     "metadata": {},
     "output_type": "display_data"
    },
    {
     "data": {
      "application/vnd.jupyter.widget-view+json": {
       "model_id": "",
       "version_major": 2,
       "version_minor": 0
      },
      "text/plain": [
       "VBox(children=(Label(value=' 0.00MB of 0.00MB uploaded (0.00MB deduped)\\r'), FloatProgress(value=1.0, max=1.0)…"
      ]
     },
     "metadata": {},
     "output_type": "display_data"
    },
    {
     "data": {
      "text/html": [
       "<style>\n",
       "    table.wandb td:nth-child(1) { padding: 0 10px; text-align: right }\n",
       "    .wandb-row { display: flex; flex-direction: row; flex-wrap: wrap; width: 100% }\n",
       "    .wandb-col { display: flex; flex-direction: column; flex-basis: 100%; flex: 1; padding: 10px; }\n",
       "    </style>\n",
       "<div class=\"wandb-row\"><div class=\"wandb-col\">\n",
       "</div><div class=\"wandb-col\">\n",
       "</div></div>\n",
       "Synced 4 W&B file(s), 0 media file(s), 0 artifact file(s) and 0 other file(s)\n",
       "<br/>Synced <strong style=\"color:#cdcd00\">azure-sweep-3</strong>: <a href=\"https://wandb.ai/vishal91099/Detail-1/runs/8fpzplw1\" target=\"_blank\">https://wandb.ai/vishal91099/Detail-1/runs/8fpzplw1</a><br/>\n",
       "Find logs at: <code>.\\wandb\\run-20220224_134330-8fpzplw1\\logs</code><br/>\n"
      ],
      "text/plain": [
       "<IPython.core.display.HTML object>"
      ]
     },
     "metadata": {},
     "output_type": "display_data"
    },
    {
     "data": {
      "text/html": [
       "Successfully finished last run (ID:8fpzplw1). Initializing new run:<br/>"
      ],
      "text/plain": [
       "<IPython.core.display.HTML object>"
      ]
     },
     "metadata": {},
     "output_type": "display_data"
    },
    {
     "data": {
      "text/html": [
       "\n",
       "                    Syncing run <strong><a href=\"https://wandb.ai/vishal91099/Detail-1/runs/8fpzplw1\" target=\"_blank\">azure-sweep-3</a></strong> to <a href=\"https://wandb.ai/vishal91099/Detail-1\" target=\"_blank\">Weights & Biases</a> (<a href=\"https://docs.wandb.com/integrations/jupyter.html\" target=\"_blank\">docs</a>).<br/>\n",
       "Sweep page: <a href=\"https://wandb.ai/vishal91099/Detail-1/sweeps/e8k0srji\" target=\"_blank\">https://wandb.ai/vishal91099/Detail-1/sweeps/e8k0srji</a><br/>\n",
       "\n",
       "                "
      ],
      "text/plain": [
       "<IPython.core.display.HTML object>"
      ]
     },
     "metadata": {},
     "output_type": "display_data"
    },
    {
     "name": "stdout",
     "output_type": "stream",
     "text": [
      "Epoch: 0\n",
      "Train Accuracy 7.842592592592593\n",
      "Loss in Training 27879.400562392653\n",
      "Validation Accuracy 7.583333333333334\n",
      "Loss in Validation 5275.787476531904\n",
      "Epoch: 1\n",
      "Train Accuracy 8.235185185185186\n",
      "Loss in Training 27802.281784654962\n",
      "Validation Accuracy 7.95\n",
      "Loss in Validation 5267.202043574509\n",
      "Epoch: 2\n",
      "Train Accuracy 8.762962962962963\n",
      "Loss in Training 27726.661519940484\n",
      "Validation Accuracy 8.416666666666666\n",
      "Loss in Validation 5258.7575121753025\n",
      "Epoch: 3\n",
      "Train Accuracy 9.396296296296295\n",
      "Loss in Training 27652.31766935662\n",
      "Validation Accuracy 8.85\n",
      "Loss in Validation 5250.454657747988\n",
      "Epoch: 4\n",
      "Train Accuracy 9.931481481481482\n",
      "Loss in Training 27579.25333104489\n",
      "Validation Accuracy 9.55\n",
      "Loss in Validation 5242.293928618465\n",
      "Epoch: 5\n",
      "Train Accuracy 10.525925925925925\n",
      "Loss in Training 27507.468864893326\n",
      "Validation Accuracy 10.266666666666667\n",
      "Loss in Validation 5234.275463586127\n",
      "Epoch: 6\n",
      "Train Accuracy 11.209259259259259\n",
      "Loss in Training 27436.96206530714\n",
      "Validation Accuracy 11.066666666666666\n",
      "Loss in Validation 5226.39911005342\n",
      "Epoch: 7\n",
      "Train Accuracy 11.981481481481481\n",
      "Loss in Training 27367.7283349456\n",
      "Validation Accuracy 11.65\n",
      "Loss in Validation 5218.664442478233\n",
      "Epoch: 8\n",
      "Train Accuracy 12.74074074074074\n",
      "Loss in Training 27299.760857818903\n",
      "Validation Accuracy 12.316666666666666\n",
      "Loss in Validation 5211.070780975003\n",
      "Epoch: 9\n",
      "Train Accuracy 13.533333333333333\n",
      "Loss in Training 27233.050770509795\n",
      "Validation Accuracy 13.083333333333332\n",
      "Loss in Validation 5203.6172099471105\n"
     ]
    },
    {
     "name": "stderr",
     "output_type": "stream",
     "text": [
      "\u001b[34m\u001b[1mwandb\u001b[0m: Sweep Agent: Waiting for job.\n",
      "\u001b[34m\u001b[1mwandb\u001b[0m: Job received.\n",
      "\u001b[34m\u001b[1mwandb\u001b[0m: Agent Starting Run: 78qocezd with config:\n",
      "\u001b[34m\u001b[1mwandb\u001b[0m: \tactivation: Tanh\n",
      "\u001b[34m\u001b[1mwandb\u001b[0m: \tbatch_size: 160\n",
      "\u001b[34m\u001b[1mwandb\u001b[0m: \tlearning_rate: 0.001\n",
      "\u001b[34m\u001b[1mwandb\u001b[0m: \tloss: CE\n",
      "\u001b[34m\u001b[1mwandb\u001b[0m: \tnum_epochs: 10\n",
      "\u001b[34m\u001b[1mwandb\u001b[0m: \tnum_hidden_layers: 4\n",
      "\u001b[34m\u001b[1mwandb\u001b[0m: \toptimizer: GD\n",
      "\u001b[34m\u001b[1mwandb\u001b[0m: \tsize_hidden_layer: 64\n",
      "\u001b[34m\u001b[1mwandb\u001b[0m: \tweight_init: Xavier\n"
     ]
    },
    {
     "data": {
      "text/html": [
       "\n",
       "                    Syncing run <strong><a href=\"https://wandb.ai/vishal91099/Detail-1/runs/78qocezd\" target=\"_blank\">effortless-sweep-4</a></strong> to <a href=\"https://wandb.ai/vishal91099/Detail-1\" target=\"_blank\">Weights & Biases</a> (<a href=\"https://docs.wandb.com/integrations/jupyter.html\" target=\"_blank\">docs</a>).<br/>\n",
       "Sweep page: <a href=\"https://wandb.ai/vishal91099/Detail-1/sweeps/e8k0srji\" target=\"_blank\">https://wandb.ai/vishal91099/Detail-1/sweeps/e8k0srji</a><br/>\n",
       "\n",
       "                "
      ],
      "text/plain": [
       "<IPython.core.display.HTML object>"
      ]
     },
     "metadata": {},
     "output_type": "display_data"
    },
    {
     "data": {
      "text/html": [
       "Finishing last run (ID:78qocezd) before initializing another..."
      ],
      "text/plain": [
       "<IPython.core.display.HTML object>"
      ]
     },
     "metadata": {},
     "output_type": "display_data"
    },
    {
     "data": {
      "text/html": [
       "<br/>Waiting for W&B process to finish, PID 5728... <strong style=\"color:green\">(success).</strong>"
      ],
      "text/plain": [
       "<IPython.core.display.HTML object>"
      ]
     },
     "metadata": {},
     "output_type": "display_data"
    },
    {
     "data": {
      "application/vnd.jupyter.widget-view+json": {
       "model_id": "",
       "version_major": 2,
       "version_minor": 0
      },
      "text/plain": [
       "VBox(children=(Label(value=' 0.00MB of 0.00MB uploaded (0.00MB deduped)\\r'), FloatProgress(value=1.0, max=1.0)…"
      ]
     },
     "metadata": {},
     "output_type": "display_data"
    },
    {
     "data": {
      "text/html": [
       "<style>\n",
       "    table.wandb td:nth-child(1) { padding: 0 10px; text-align: right }\n",
       "    .wandb-row { display: flex; flex-direction: row; flex-wrap: wrap; width: 100% }\n",
       "    .wandb-col { display: flex; flex-direction: column; flex-basis: 100%; flex: 1; padding: 10px; }\n",
       "    </style>\n",
       "<div class=\"wandb-row\"><div class=\"wandb-col\">\n",
       "</div><div class=\"wandb-col\">\n",
       "</div></div>\n",
       "Synced 4 W&B file(s), 0 media file(s), 0 artifact file(s) and 0 other file(s)\n",
       "<br/>Synced <strong style=\"color:#cdcd00\">effortless-sweep-4</strong>: <a href=\"https://wandb.ai/vishal91099/Detail-1/runs/78qocezd\" target=\"_blank\">https://wandb.ai/vishal91099/Detail-1/runs/78qocezd</a><br/>\n",
       "Find logs at: <code>.\\wandb\\run-20220224_134557-78qocezd\\logs</code><br/>\n"
      ],
      "text/plain": [
       "<IPython.core.display.HTML object>"
      ]
     },
     "metadata": {},
     "output_type": "display_data"
    },
    {
     "data": {
      "text/html": [
       "Successfully finished last run (ID:78qocezd). Initializing new run:<br/>"
      ],
      "text/plain": [
       "<IPython.core.display.HTML object>"
      ]
     },
     "metadata": {},
     "output_type": "display_data"
    },
    {
     "data": {
      "text/html": [
       "\n",
       "                    Syncing run <strong><a href=\"https://wandb.ai/vishal91099/Detail-1/runs/78qocezd\" target=\"_blank\">effortless-sweep-4</a></strong> to <a href=\"https://wandb.ai/vishal91099/Detail-1\" target=\"_blank\">Weights & Biases</a> (<a href=\"https://docs.wandb.com/integrations/jupyter.html\" target=\"_blank\">docs</a>).<br/>\n",
       "Sweep page: <a href=\"https://wandb.ai/vishal91099/Detail-1/sweeps/e8k0srji\" target=\"_blank\">https://wandb.ai/vishal91099/Detail-1/sweeps/e8k0srji</a><br/>\n",
       "\n",
       "                "
      ],
      "text/plain": [
       "<IPython.core.display.HTML object>"
      ]
     },
     "metadata": {},
     "output_type": "display_data"
    },
    {
     "name": "stdout",
     "output_type": "stream",
     "text": [
      "Epoch: 0\n",
      "Train Accuracy 15.292592592592595\n",
      "Loss in Training 27244.304648945694\n",
      "Validation Accuracy 14.95\n",
      "Loss in Validation 5207.545809797435\n",
      "Epoch: 1\n",
      "Train Accuracy 16.337037037037035\n",
      "Loss in Training 27152.536056717505\n",
      "Validation Accuracy 16.133333333333333\n",
      "Loss in Validation 5197.393027191307\n",
      "Epoch: 2\n",
      "Train Accuracy 17.32037037037037\n",
      "Loss in Training 27063.70677684592\n",
      "Validation Accuracy 17.216666666666665\n",
      "Loss in Validation 5187.5286759777055\n",
      "Epoch: 3\n",
      "Train Accuracy 18.418518518518518\n",
      "Loss in Training 26977.522960675356\n",
      "Validation Accuracy 18.183333333333334\n",
      "Loss in Validation 5177.947225511301\n",
      "Epoch: 4\n",
      "Train Accuracy 19.407407407407405\n",
      "Loss in Training 26893.919725056207\n",
      "Validation Accuracy 19.066666666666666\n",
      "Loss in Validation 5168.6424741323735\n",
      "Epoch: 5\n",
      "Train Accuracy 20.325925925925926\n",
      "Loss in Training 26812.827908682666\n",
      "Validation Accuracy 20.033333333333335\n",
      "Loss in Validation 5159.607725394323\n",
      "Epoch: 6\n",
      "Train Accuracy 21.27962962962963\n",
      "Loss in Training 26734.17554510133\n",
      "Validation Accuracy 20.783333333333335\n",
      "Loss in Validation 5150.835937467922\n",
      "Epoch: 7\n",
      "Train Accuracy 22.116666666666667\n",
      "Loss in Training 26657.88907673902\n",
      "Validation Accuracy 21.633333333333333\n",
      "Loss in Validation 5142.319847083268\n",
      "Epoch: 8\n",
      "Train Accuracy 22.894444444444446\n",
      "Loss in Training 26583.894331762225\n",
      "Validation Accuracy 22.366666666666667\n",
      "Loss in Validation 5134.052070154356\n",
      "Epoch: 9\n",
      "Train Accuracy 23.692592592592593\n",
      "Loss in Training 26512.117290447568\n",
      "Validation Accuracy 23.233333333333334\n",
      "Loss in Validation 5126.0251817048365\n"
     ]
    },
    {
     "name": "stderr",
     "output_type": "stream",
     "text": [
      "\u001b[34m\u001b[1mwandb\u001b[0m: Agent Starting Run: d0hp47un with config:\n",
      "\u001b[34m\u001b[1mwandb\u001b[0m: \tactivation: Tanh\n",
      "\u001b[34m\u001b[1mwandb\u001b[0m: \tbatch_size: 160\n",
      "\u001b[34m\u001b[1mwandb\u001b[0m: \tlearning_rate: 0.001\n",
      "\u001b[34m\u001b[1mwandb\u001b[0m: \tloss: CE\n",
      "\u001b[34m\u001b[1mwandb\u001b[0m: \tnum_epochs: 10\n",
      "\u001b[34m\u001b[1mwandb\u001b[0m: \tnum_hidden_layers: 4\n",
      "\u001b[34m\u001b[1mwandb\u001b[0m: \toptimizer: GD\n",
      "\u001b[34m\u001b[1mwandb\u001b[0m: \tsize_hidden_layer: 128\n",
      "\u001b[34m\u001b[1mwandb\u001b[0m: \tweight_init: RandomNormal\n"
     ]
    },
    {
     "data": {
      "text/html": [
       "\n",
       "                    Syncing run <strong><a href=\"https://wandb.ai/vishal91099/Detail-1/runs/d0hp47un\" target=\"_blank\">feasible-sweep-5</a></strong> to <a href=\"https://wandb.ai/vishal91099/Detail-1\" target=\"_blank\">Weights & Biases</a> (<a href=\"https://docs.wandb.com/integrations/jupyter.html\" target=\"_blank\">docs</a>).<br/>\n",
       "Sweep page: <a href=\"https://wandb.ai/vishal91099/Detail-1/sweeps/e8k0srji\" target=\"_blank\">https://wandb.ai/vishal91099/Detail-1/sweeps/e8k0srji</a><br/>\n",
       "\n",
       "                "
      ],
      "text/plain": [
       "<IPython.core.display.HTML object>"
      ]
     },
     "metadata": {},
     "output_type": "display_data"
    },
    {
     "data": {
      "text/html": [
       "Finishing last run (ID:d0hp47un) before initializing another..."
      ],
      "text/plain": [
       "<IPython.core.display.HTML object>"
      ]
     },
     "metadata": {},
     "output_type": "display_data"
    },
    {
     "data": {
      "text/html": [
       "<br/>Waiting for W&B process to finish, PID 12776... <strong style=\"color:green\">(success).</strong>"
      ],
      "text/plain": [
       "<IPython.core.display.HTML object>"
      ]
     },
     "metadata": {},
     "output_type": "display_data"
    },
    {
     "data": {
      "application/vnd.jupyter.widget-view+json": {
       "model_id": "",
       "version_major": 2,
       "version_minor": 0
      },
      "text/plain": [
       "VBox(children=(Label(value=' 0.00MB of 0.00MB uploaded (0.00MB deduped)\\r'), FloatProgress(value=1.0, max=1.0)…"
      ]
     },
     "metadata": {},
     "output_type": "display_data"
    },
    {
     "data": {
      "text/html": [
       "<style>\n",
       "    table.wandb td:nth-child(1) { padding: 0 10px; text-align: right }\n",
       "    .wandb-row { display: flex; flex-direction: row; flex-wrap: wrap; width: 100% }\n",
       "    .wandb-col { display: flex; flex-direction: column; flex-basis: 100%; flex: 1; padding: 10px; }\n",
       "    </style>\n",
       "<div class=\"wandb-row\"><div class=\"wandb-col\">\n",
       "</div><div class=\"wandb-col\">\n",
       "</div></div>\n",
       "Synced 4 W&B file(s), 0 media file(s), 0 artifact file(s) and 0 other file(s)\n",
       "<br/>Synced <strong style=\"color:#cdcd00\">feasible-sweep-5</strong>: <a href=\"https://wandb.ai/vishal91099/Detail-1/runs/d0hp47un\" target=\"_blank\">https://wandb.ai/vishal91099/Detail-1/runs/d0hp47un</a><br/>\n",
       "Find logs at: <code>.\\wandb\\run-20220224_134816-d0hp47un\\logs</code><br/>\n"
      ],
      "text/plain": [
       "<IPython.core.display.HTML object>"
      ]
     },
     "metadata": {},
     "output_type": "display_data"
    },
    {
     "data": {
      "text/html": [
       "Successfully finished last run (ID:d0hp47un). Initializing new run:<br/>"
      ],
      "text/plain": [
       "<IPython.core.display.HTML object>"
      ]
     },
     "metadata": {},
     "output_type": "display_data"
    },
    {
     "data": {
      "text/html": [
       "\n",
       "                    Syncing run <strong><a href=\"https://wandb.ai/vishal91099/Detail-1/runs/d0hp47un\" target=\"_blank\">feasible-sweep-5</a></strong> to <a href=\"https://wandb.ai/vishal91099/Detail-1\" target=\"_blank\">Weights & Biases</a> (<a href=\"https://docs.wandb.com/integrations/jupyter.html\" target=\"_blank\">docs</a>).<br/>\n",
       "Sweep page: <a href=\"https://wandb.ai/vishal91099/Detail-1/sweeps/e8k0srji\" target=\"_blank\">https://wandb.ai/vishal91099/Detail-1/sweeps/e8k0srji</a><br/>\n",
       "\n",
       "                "
      ],
      "text/plain": [
       "<IPython.core.display.HTML object>"
      ]
     },
     "metadata": {},
     "output_type": "display_data"
    },
    {
     "name": "stdout",
     "output_type": "stream",
     "text": [
      "Epoch: 0\n",
      "Train Accuracy 7.062962962962962\n",
      "Loss in Training 27998.295022273065\n",
      "Validation Accuracy 7.616666666666666\n",
      "Loss in Validation 5286.0886894156265\n",
      "Epoch: 1\n",
      "Train Accuracy 7.696296296296297\n",
      "Loss in Training 27875.751229338923\n",
      "Validation Accuracy 8.066666666666666\n",
      "Loss in Validation 5272.552093604738\n",
      "Epoch: 2\n",
      "Train Accuracy 8.38888888888889\n",
      "Loss in Training 27756.263624120125\n",
      "Validation Accuracy 8.649999999999999\n",
      "Loss in Validation 5259.31642480704\n",
      "Epoch: 3\n",
      "Train Accuracy 9.190740740740742\n",
      "Loss in Training 27639.485902028056\n",
      "Validation Accuracy 9.3\n",
      "Loss in Validation 5246.376993604311\n",
      "Epoch: 4\n",
      "Train Accuracy 10.040740740740741\n",
      "Loss in Training 27525.37203917114\n",
      "Validation Accuracy 10.133333333333333\n",
      "Loss in Validation 5233.728885922899\n",
      "Epoch: 5\n",
      "Train Accuracy 11.038888888888888\n",
      "Loss in Training 27413.87428820101\n",
      "Validation Accuracy 11.05\n",
      "Loss in Validation 5221.3669913661015\n",
      "Epoch: 6\n",
      "Train Accuracy 12.068518518518518\n",
      "Loss in Training 27304.94342595857\n",
      "Validation Accuracy 12.2\n",
      "Loss in Validation 5209.286030687195\n",
      "Epoch: 7\n",
      "Train Accuracy 13.244444444444445\n",
      "Loss in Training 27198.528991660773\n",
      "Validation Accuracy 13.583333333333334\n",
      "Loss in Validation 5197.480582248664\n",
      "Epoch: 8\n",
      "Train Accuracy 14.48888888888889\n",
      "Loss in Training 27094.57951451268\n",
      "Validation Accuracy 14.583333333333334\n",
      "Loss in Validation 5185.94510733626\n",
      "Epoch: 9\n",
      "Train Accuracy 15.77037037037037\n",
      "Loss in Training 26993.042729852572\n",
      "Validation Accuracy 15.916666666666668\n",
      "Loss in Validation 5174.673974219964\n"
     ]
    },
    {
     "name": "stderr",
     "output_type": "stream",
     "text": [
      "\u001b[34m\u001b[1mwandb\u001b[0m: Sweep Agent: Waiting for job.\n",
      "\u001b[34m\u001b[1mwandb\u001b[0m: Job received.\n",
      "\u001b[34m\u001b[1mwandb\u001b[0m: Agent Starting Run: n8vqd7sf with config:\n",
      "\u001b[34m\u001b[1mwandb\u001b[0m: \tactivation: Tanh\n",
      "\u001b[34m\u001b[1mwandb\u001b[0m: \tbatch_size: 160\n",
      "\u001b[34m\u001b[1mwandb\u001b[0m: \tlearning_rate: 0.001\n",
      "\u001b[34m\u001b[1mwandb\u001b[0m: \tloss: CE\n",
      "\u001b[34m\u001b[1mwandb\u001b[0m: \tnum_epochs: 10\n",
      "\u001b[34m\u001b[1mwandb\u001b[0m: \tnum_hidden_layers: 4\n",
      "\u001b[34m\u001b[1mwandb\u001b[0m: \toptimizer: GD\n",
      "\u001b[34m\u001b[1mwandb\u001b[0m: \tsize_hidden_layer: 128\n",
      "\u001b[34m\u001b[1mwandb\u001b[0m: \tweight_init: Xavier\n"
     ]
    },
    {
     "data": {
      "text/html": [
       "\n",
       "                    Syncing run <strong><a href=\"https://wandb.ai/vishal91099/Detail-1/runs/n8vqd7sf\" target=\"_blank\">rosy-sweep-6</a></strong> to <a href=\"https://wandb.ai/vishal91099/Detail-1\" target=\"_blank\">Weights & Biases</a> (<a href=\"https://docs.wandb.com/integrations/jupyter.html\" target=\"_blank\">docs</a>).<br/>\n",
       "Sweep page: <a href=\"https://wandb.ai/vishal91099/Detail-1/sweeps/e8k0srji\" target=\"_blank\">https://wandb.ai/vishal91099/Detail-1/sweeps/e8k0srji</a><br/>\n",
       "\n",
       "                "
      ],
      "text/plain": [
       "<IPython.core.display.HTML object>"
      ]
     },
     "metadata": {},
     "output_type": "display_data"
    },
    {
     "data": {
      "text/html": [
       "Finishing last run (ID:n8vqd7sf) before initializing another..."
      ],
      "text/plain": [
       "<IPython.core.display.HTML object>"
      ]
     },
     "metadata": {},
     "output_type": "display_data"
    },
    {
     "data": {
      "text/html": [
       "<br/>Waiting for W&B process to finish, PID 11708... <strong style=\"color:green\">(success).</strong>"
      ],
      "text/plain": [
       "<IPython.core.display.HTML object>"
      ]
     },
     "metadata": {},
     "output_type": "display_data"
    },
    {
     "data": {
      "application/vnd.jupyter.widget-view+json": {
       "model_id": "",
       "version_major": 2,
       "version_minor": 0
      },
      "text/plain": [
       "VBox(children=(Label(value=' 0.00MB of 0.00MB uploaded (0.00MB deduped)\\r'), FloatProgress(value=1.0, max=1.0)…"
      ]
     },
     "metadata": {},
     "output_type": "display_data"
    },
    {
     "data": {
      "text/html": [
       "<style>\n",
       "    table.wandb td:nth-child(1) { padding: 0 10px; text-align: right }\n",
       "    .wandb-row { display: flex; flex-direction: row; flex-wrap: wrap; width: 100% }\n",
       "    .wandb-col { display: flex; flex-direction: column; flex-basis: 100%; flex: 1; padding: 10px; }\n",
       "    </style>\n",
       "<div class=\"wandb-row\"><div class=\"wandb-col\">\n",
       "</div><div class=\"wandb-col\">\n",
       "</div></div>\n",
       "Synced 4 W&B file(s), 0 media file(s), 0 artifact file(s) and 0 other file(s)\n",
       "<br/>Synced <strong style=\"color:#cdcd00\">rosy-sweep-6</strong>: <a href=\"https://wandb.ai/vishal91099/Detail-1/runs/n8vqd7sf\" target=\"_blank\">https://wandb.ai/vishal91099/Detail-1/runs/n8vqd7sf</a><br/>\n",
       "Find logs at: <code>.\\wandb\\run-20220224_135111-n8vqd7sf\\logs</code><br/>\n"
      ],
      "text/plain": [
       "<IPython.core.display.HTML object>"
      ]
     },
     "metadata": {},
     "output_type": "display_data"
    },
    {
     "data": {
      "text/html": [
       "Successfully finished last run (ID:n8vqd7sf). Initializing new run:<br/>"
      ],
      "text/plain": [
       "<IPython.core.display.HTML object>"
      ]
     },
     "metadata": {},
     "output_type": "display_data"
    },
    {
     "data": {
      "text/html": [
       "\n",
       "                    Syncing run <strong><a href=\"https://wandb.ai/vishal91099/Detail-1/runs/n8vqd7sf\" target=\"_blank\">rosy-sweep-6</a></strong> to <a href=\"https://wandb.ai/vishal91099/Detail-1\" target=\"_blank\">Weights & Biases</a> (<a href=\"https://docs.wandb.com/integrations/jupyter.html\" target=\"_blank\">docs</a>).<br/>\n",
       "Sweep page: <a href=\"https://wandb.ai/vishal91099/Detail-1/sweeps/e8k0srji\" target=\"_blank\">https://wandb.ai/vishal91099/Detail-1/sweeps/e8k0srji</a><br/>\n",
       "\n",
       "                "
      ],
      "text/plain": [
       "<IPython.core.display.HTML object>"
      ]
     },
     "metadata": {},
     "output_type": "display_data"
    },
    {
     "name": "stdout",
     "output_type": "stream",
     "text": [
      "Epoch: 0\n",
      "Train Accuracy 7.7518518518518515\n",
      "Loss in Training 27823.902379102954\n",
      "Validation Accuracy 7.116666666666667\n",
      "Loss in Validation 5266.297089173496\n",
      "Epoch: 1\n",
      "Train Accuracy 8.627777777777776\n",
      "Loss in Training 27721.090669389407\n",
      "Validation Accuracy 7.95\n",
      "Loss in Validation 5254.938090109285\n",
      "Epoch: 2\n",
      "Train Accuracy 9.625925925925925\n",
      "Loss in Training 27620.476423942655\n",
      "Validation Accuracy 8.95\n",
      "Loss in Validation 5243.792313246672\n",
      "Epoch: 3\n",
      "Train Accuracy 10.648148148148149\n",
      "Loss in Training 27521.794563281685\n",
      "Validation Accuracy 10.05\n",
      "Loss in Validation 5232.859377351117\n",
      "Epoch: 4\n",
      "Train Accuracy 11.737037037037037\n",
      "Loss in Training 27425.037822587\n",
      "Validation Accuracy 11.183333333333334\n",
      "Loss in Validation 5222.138539433179\n",
      "Epoch: 5\n",
      "Train Accuracy 12.966666666666669\n",
      "Loss in Training 27330.195957230047\n",
      "Validation Accuracy 12.433333333333334\n",
      "Loss in Validation 5211.628717725255\n",
      "Epoch: 6\n",
      "Train Accuracy 14.266666666666666\n",
      "Loss in Training 27237.255941891395\n",
      "Validation Accuracy 14.133333333333335\n",
      "Loss in Validation 5201.3285150769125\n",
      "Epoch: 7\n",
      "Train Accuracy 15.633333333333333\n",
      "Loss in Training 27146.20217112522\n",
      "Validation Accuracy 15.416666666666668\n",
      "Loss in Validation 5191.2362424922285\n",
      "Epoch: 8\n",
      "Train Accuracy 16.983333333333334\n",
      "Loss in Training 27057.016659508834\n",
      "Validation Accuracy 16.966666666666665\n",
      "Loss in Validation 5181.34994256736\n",
      "Epoch: 9\n",
      "Train Accuracy 18.546296296296298\n",
      "Loss in Training 26969.679239768815\n",
      "Validation Accuracy 18.48333333333333\n",
      "Loss in Validation 5171.667412620138\n"
     ]
    },
    {
     "name": "stderr",
     "output_type": "stream",
     "text": [
      "\u001b[34m\u001b[1mwandb\u001b[0m: Agent Starting Run: evsr8stk with config:\n",
      "\u001b[34m\u001b[1mwandb\u001b[0m: \tactivation: Tanh\n",
      "\u001b[34m\u001b[1mwandb\u001b[0m: \tbatch_size: 160\n",
      "\u001b[34m\u001b[1mwandb\u001b[0m: \tlearning_rate: 0.001\n",
      "\u001b[34m\u001b[1mwandb\u001b[0m: \tloss: CE\n",
      "\u001b[34m\u001b[1mwandb\u001b[0m: \tnum_epochs: 10\n",
      "\u001b[34m\u001b[1mwandb\u001b[0m: \tnum_hidden_layers: 4\n",
      "\u001b[34m\u001b[1mwandb\u001b[0m: \toptimizer: Momentum\n",
      "\u001b[34m\u001b[1mwandb\u001b[0m: \tsize_hidden_layer: 32\n",
      "\u001b[34m\u001b[1mwandb\u001b[0m: \tweight_init: RandomNormal\n"
     ]
    },
    {
     "data": {
      "text/html": [
       "\n",
       "                    Syncing run <strong><a href=\"https://wandb.ai/vishal91099/Detail-1/runs/evsr8stk\" target=\"_blank\">driven-sweep-7</a></strong> to <a href=\"https://wandb.ai/vishal91099/Detail-1\" target=\"_blank\">Weights & Biases</a> (<a href=\"https://docs.wandb.com/integrations/jupyter.html\" target=\"_blank\">docs</a>).<br/>\n",
       "Sweep page: <a href=\"https://wandb.ai/vishal91099/Detail-1/sweeps/e8k0srji\" target=\"_blank\">https://wandb.ai/vishal91099/Detail-1/sweeps/e8k0srji</a><br/>\n",
       "\n",
       "                "
      ],
      "text/plain": [
       "<IPython.core.display.HTML object>"
      ]
     },
     "metadata": {},
     "output_type": "display_data"
    },
    {
     "data": {
      "text/html": [
       "Finishing last run (ID:evsr8stk) before initializing another..."
      ],
      "text/plain": [
       "<IPython.core.display.HTML object>"
      ]
     },
     "metadata": {},
     "output_type": "display_data"
    },
    {
     "data": {
      "text/html": [
       "<br/>Waiting for W&B process to finish, PID 13040... <strong style=\"color:green\">(success).</strong>"
      ],
      "text/plain": [
       "<IPython.core.display.HTML object>"
      ]
     },
     "metadata": {},
     "output_type": "display_data"
    },
    {
     "data": {
      "application/vnd.jupyter.widget-view+json": {
       "model_id": "",
       "version_major": 2,
       "version_minor": 0
      },
      "text/plain": [
       "VBox(children=(Label(value=' 0.00MB of 0.00MB uploaded (0.00MB deduped)\\r'), FloatProgress(value=1.0, max=1.0)…"
      ]
     },
     "metadata": {},
     "output_type": "display_data"
    },
    {
     "data": {
      "text/html": [
       "<style>\n",
       "    table.wandb td:nth-child(1) { padding: 0 10px; text-align: right }\n",
       "    .wandb-row { display: flex; flex-direction: row; flex-wrap: wrap; width: 100% }\n",
       "    .wandb-col { display: flex; flex-direction: column; flex-basis: 100%; flex: 1; padding: 10px; }\n",
       "    </style>\n",
       "<div class=\"wandb-row\"><div class=\"wandb-col\">\n",
       "</div><div class=\"wandb-col\">\n",
       "</div></div>\n",
       "Synced 4 W&B file(s), 0 media file(s), 0 artifact file(s) and 0 other file(s)\n",
       "<br/>Synced <strong style=\"color:#cdcd00\">driven-sweep-7</strong>: <a href=\"https://wandb.ai/vishal91099/Detail-1/runs/evsr8stk\" target=\"_blank\">https://wandb.ai/vishal91099/Detail-1/runs/evsr8stk</a><br/>\n",
       "Find logs at: <code>.\\wandb\\run-20220224_135352-evsr8stk\\logs</code><br/>\n"
      ],
      "text/plain": [
       "<IPython.core.display.HTML object>"
      ]
     },
     "metadata": {},
     "output_type": "display_data"
    },
    {
     "data": {
      "text/html": [
       "Successfully finished last run (ID:evsr8stk). Initializing new run:<br/>"
      ],
      "text/plain": [
       "<IPython.core.display.HTML object>"
      ]
     },
     "metadata": {},
     "output_type": "display_data"
    },
    {
     "data": {
      "text/html": [
       "\n",
       "                    Syncing run <strong><a href=\"https://wandb.ai/vishal91099/Detail-1/runs/evsr8stk\" target=\"_blank\">driven-sweep-7</a></strong> to <a href=\"https://wandb.ai/vishal91099/Detail-1\" target=\"_blank\">Weights & Biases</a> (<a href=\"https://docs.wandb.com/integrations/jupyter.html\" target=\"_blank\">docs</a>).<br/>\n",
       "Sweep page: <a href=\"https://wandb.ai/vishal91099/Detail-1/sweeps/e8k0srji\" target=\"_blank\">https://wandb.ai/vishal91099/Detail-1/sweeps/e8k0srji</a><br/>\n",
       "\n",
       "                "
      ],
      "text/plain": [
       "<IPython.core.display.HTML object>"
      ]
     },
     "metadata": {},
     "output_type": "display_data"
    },
    {
     "name": "stdout",
     "output_type": "stream",
     "text": [
      "Epoch: 0\n",
      "Train Accuracy 4.877777777777778\n",
      "Loss in Training 28463.467698633496\n",
      "Validation Accuracy 4.816666666666667\n",
      "Loss in Validation 5339.009763727643\n",
      "Epoch: 1\n",
      "Train Accuracy 5.1722222222222225\n",
      "Loss in Training 28404.762015512584\n",
      "Validation Accuracy 5.066666666666666\n",
      "Loss in Validation 5332.487757171789\n",
      "Epoch: 2\n",
      "Train Accuracy 5.524074074074075\n",
      "Loss in Training 28346.625027639224\n",
      "Validation Accuracy 5.266666666666667\n",
      "Loss in Validation 5326.011077636467\n",
      "Epoch: 3\n",
      "Train Accuracy 5.859259259259259\n",
      "Loss in Training 28288.904883202402\n",
      "Validation Accuracy 5.566666666666667\n",
      "Loss in Validation 5319.5812918214415\n",
      "Epoch: 4\n",
      "Train Accuracy 6.1685185185185185\n",
      "Loss in Training 28231.6141880844\n",
      "Validation Accuracy 5.866666666666666\n",
      "Loss in Validation 5313.199870023267\n",
      "Epoch: 5\n",
      "Train Accuracy 6.527777777777779\n",
      "Loss in Training 28174.764801380785\n",
      "Validation Accuracy 6.2\n",
      "Loss in Validation 5306.8681870089895\n",
      "Epoch: 6\n",
      "Train Accuracy 6.887037037037038\n",
      "Loss in Training 28118.36785431896\n",
      "Validation Accuracy 6.583333333333333\n",
      "Loss in Validation 5300.587523433243\n",
      "Epoch: 7\n",
      "Train Accuracy 7.305555555555555\n",
      "Loss in Training 28062.43376844445\n",
      "Validation Accuracy 7.000000000000001\n",
      "Loss in Validation 5294.359067757379\n",
      "Epoch: 8\n",
      "Train Accuracy 7.694444444444444\n",
      "Loss in Training 28006.972273274976\n",
      "Validation Accuracy 7.5166666666666675\n",
      "Loss in Validation 5288.183918608514\n",
      "Epoch: 9\n",
      "Train Accuracy 8.070370370370371\n",
      "Loss in Training 27951.99242359612\n",
      "Validation Accuracy 7.85\n",
      "Loss in Validation 5282.0630875028355\n"
     ]
    },
    {
     "name": "stderr",
     "output_type": "stream",
     "text": [
      "\u001b[34m\u001b[1mwandb\u001b[0m: Agent Starting Run: 8p323qee with config:\n",
      "\u001b[34m\u001b[1mwandb\u001b[0m: \tactivation: Tanh\n",
      "\u001b[34m\u001b[1mwandb\u001b[0m: \tbatch_size: 160\n",
      "\u001b[34m\u001b[1mwandb\u001b[0m: \tlearning_rate: 0.001\n",
      "\u001b[34m\u001b[1mwandb\u001b[0m: \tloss: CE\n",
      "\u001b[34m\u001b[1mwandb\u001b[0m: \tnum_epochs: 10\n",
      "\u001b[34m\u001b[1mwandb\u001b[0m: \tnum_hidden_layers: 4\n",
      "\u001b[34m\u001b[1mwandb\u001b[0m: \toptimizer: Momentum\n",
      "\u001b[34m\u001b[1mwandb\u001b[0m: \tsize_hidden_layer: 32\n",
      "\u001b[34m\u001b[1mwandb\u001b[0m: \tweight_init: Xavier\n"
     ]
    },
    {
     "data": {
      "text/html": [
       "\n",
       "                    Syncing run <strong><a href=\"https://wandb.ai/vishal91099/Detail-1/runs/8p323qee\" target=\"_blank\">ethereal-sweep-8</a></strong> to <a href=\"https://wandb.ai/vishal91099/Detail-1\" target=\"_blank\">Weights & Biases</a> (<a href=\"https://docs.wandb.com/integrations/jupyter.html\" target=\"_blank\">docs</a>).<br/>\n",
       "Sweep page: <a href=\"https://wandb.ai/vishal91099/Detail-1/sweeps/e8k0srji\" target=\"_blank\">https://wandb.ai/vishal91099/Detail-1/sweeps/e8k0srji</a><br/>\n",
       "\n",
       "                "
      ],
      "text/plain": [
       "<IPython.core.display.HTML object>"
      ]
     },
     "metadata": {},
     "output_type": "display_data"
    },
    {
     "data": {
      "text/html": [
       "Finishing last run (ID:8p323qee) before initializing another..."
      ],
      "text/plain": [
       "<IPython.core.display.HTML object>"
      ]
     },
     "metadata": {},
     "output_type": "display_data"
    },
    {
     "data": {
      "text/html": [
       "<br/>Waiting for W&B process to finish, PID 5788... <strong style=\"color:green\">(success).</strong>"
      ],
      "text/plain": [
       "<IPython.core.display.HTML object>"
      ]
     },
     "metadata": {},
     "output_type": "display_data"
    },
    {
     "data": {
      "application/vnd.jupyter.widget-view+json": {
       "model_id": "",
       "version_major": 2,
       "version_minor": 0
      },
      "text/plain": [
       "VBox(children=(Label(value=' 0.00MB of 0.00MB uploaded (0.00MB deduped)\\r'), FloatProgress(value=1.0, max=1.0)…"
      ]
     },
     "metadata": {},
     "output_type": "display_data"
    },
    {
     "data": {
      "text/html": [
       "<style>\n",
       "    table.wandb td:nth-child(1) { padding: 0 10px; text-align: right }\n",
       "    .wandb-row { display: flex; flex-direction: row; flex-wrap: wrap; width: 100% }\n",
       "    .wandb-col { display: flex; flex-direction: column; flex-basis: 100%; flex: 1; padding: 10px; }\n",
       "    </style>\n",
       "<div class=\"wandb-row\"><div class=\"wandb-col\">\n",
       "</div><div class=\"wandb-col\">\n",
       "</div></div>\n",
       "Synced 4 W&B file(s), 0 media file(s), 0 artifact file(s) and 0 other file(s)\n",
       "<br/>Synced <strong style=\"color:#cdcd00\">ethereal-sweep-8</strong>: <a href=\"https://wandb.ai/vishal91099/Detail-1/runs/8p323qee\" target=\"_blank\">https://wandb.ai/vishal91099/Detail-1/runs/8p323qee</a><br/>\n",
       "Find logs at: <code>.\\wandb\\run-20220224_135556-8p323qee\\logs</code><br/>\n"
      ],
      "text/plain": [
       "<IPython.core.display.HTML object>"
      ]
     },
     "metadata": {},
     "output_type": "display_data"
    },
    {
     "data": {
      "text/html": [
       "Successfully finished last run (ID:8p323qee). Initializing new run:<br/>"
      ],
      "text/plain": [
       "<IPython.core.display.HTML object>"
      ]
     },
     "metadata": {},
     "output_type": "display_data"
    },
    {
     "data": {
      "text/html": [
       "\n",
       "                    Syncing run <strong><a href=\"https://wandb.ai/vishal91099/Detail-1/runs/8p323qee\" target=\"_blank\">ethereal-sweep-8</a></strong> to <a href=\"https://wandb.ai/vishal91099/Detail-1\" target=\"_blank\">Weights & Biases</a> (<a href=\"https://docs.wandb.com/integrations/jupyter.html\" target=\"_blank\">docs</a>).<br/>\n",
       "Sweep page: <a href=\"https://wandb.ai/vishal91099/Detail-1/sweeps/e8k0srji\" target=\"_blank\">https://wandb.ai/vishal91099/Detail-1/sweeps/e8k0srji</a><br/>\n",
       "\n",
       "                "
      ],
      "text/plain": [
       "<IPython.core.display.HTML object>"
      ]
     },
     "metadata": {},
     "output_type": "display_data"
    },
    {
     "name": "stdout",
     "output_type": "stream",
     "text": [
      "Epoch: 0\n",
      "Train Accuracy 11.46111111111111\n",
      "Loss in Training 27495.742523962497\n",
      "Validation Accuracy 11.600000000000001\n",
      "Loss in Validation 5226.719603550023\n",
      "Epoch: 1\n",
      "Train Accuracy 11.916666666666668\n",
      "Loss in Training 27456.805697364493\n",
      "Validation Accuracy 12.1\n",
      "Loss in Validation 5222.337813054843\n",
      "Epoch: 2\n",
      "Train Accuracy 12.472222222222221\n",
      "Loss in Training 27418.321087375156\n",
      "Validation Accuracy 12.55\n",
      "Loss in Validation 5217.995918247277\n",
      "Epoch: 3\n",
      "Train Accuracy 12.994444444444445\n",
      "Loss in Training 27380.199142938778\n",
      "Validation Accuracy 13.200000000000001\n",
      "Loss in Validation 5213.695320012158\n",
      "Epoch: 4\n",
      "Train Accuracy 13.601851851851851\n",
      "Loss in Training 27342.451169189724\n",
      "Validation Accuracy 13.65\n",
      "Loss in Validation 5209.437320852686\n",
      "Epoch: 5\n",
      "Train Accuracy 14.270370370370369\n",
      "Loss in Training 27305.087625975822\n",
      "Validation Accuracy 14.283333333333333\n",
      "Loss in Validation 5205.223122746107\n",
      "Epoch: 6\n",
      "Train Accuracy 14.875925925925927\n",
      "Loss in Training 27268.118106169262\n",
      "Validation Accuracy 15.016666666666667\n",
      "Loss in Validation 5201.053825675956\n",
      "Epoch: 7\n",
      "Train Accuracy 15.568518518518518\n",
      "Loss in Training 27231.551321266128\n",
      "Validation Accuracy 15.8\n",
      "Loss in Validation 5196.930426813929\n",
      "Epoch: 8\n",
      "Train Accuracy 16.30185185185185\n",
      "Loss in Training 27195.39509427535\n",
      "Validation Accuracy 16.616666666666667\n",
      "Loss in Validation 5192.853820318576\n",
      "Epoch: 9\n",
      "Train Accuracy 17.005555555555553\n",
      "Loss in Training 27159.65635958833\n",
      "Validation Accuracy 17.216666666666665\n",
      "Loss in Validation 5188.824797720124\n"
     ]
    },
    {
     "name": "stderr",
     "output_type": "stream",
     "text": [
      "\u001b[34m\u001b[1mwandb\u001b[0m: Agent Starting Run: 9tsy07gu with config:\n",
      "\u001b[34m\u001b[1mwandb\u001b[0m: \tactivation: Tanh\n",
      "\u001b[34m\u001b[1mwandb\u001b[0m: \tbatch_size: 160\n",
      "\u001b[34m\u001b[1mwandb\u001b[0m: \tlearning_rate: 0.001\n",
      "\u001b[34m\u001b[1mwandb\u001b[0m: \tloss: CE\n",
      "\u001b[34m\u001b[1mwandb\u001b[0m: \tnum_epochs: 10\n",
      "\u001b[34m\u001b[1mwandb\u001b[0m: \tnum_hidden_layers: 4\n",
      "\u001b[34m\u001b[1mwandb\u001b[0m: \toptimizer: Momentum\n",
      "\u001b[34m\u001b[1mwandb\u001b[0m: \tsize_hidden_layer: 64\n",
      "\u001b[34m\u001b[1mwandb\u001b[0m: \tweight_init: RandomNormal\n"
     ]
    },
    {
     "data": {
      "text/html": [
       "\n",
       "                    Syncing run <strong><a href=\"https://wandb.ai/vishal91099/Detail-1/runs/9tsy07gu\" target=\"_blank\">soft-sweep-9</a></strong> to <a href=\"https://wandb.ai/vishal91099/Detail-1\" target=\"_blank\">Weights & Biases</a> (<a href=\"https://docs.wandb.com/integrations/jupyter.html\" target=\"_blank\">docs</a>).<br/>\n",
       "Sweep page: <a href=\"https://wandb.ai/vishal91099/Detail-1/sweeps/e8k0srji\" target=\"_blank\">https://wandb.ai/vishal91099/Detail-1/sweeps/e8k0srji</a><br/>\n",
       "\n",
       "                "
      ],
      "text/plain": [
       "<IPython.core.display.HTML object>"
      ]
     },
     "metadata": {},
     "output_type": "display_data"
    },
    {
     "data": {
      "text/html": [
       "Finishing last run (ID:9tsy07gu) before initializing another..."
      ],
      "text/plain": [
       "<IPython.core.display.HTML object>"
      ]
     },
     "metadata": {},
     "output_type": "display_data"
    },
    {
     "data": {
      "text/html": [
       "<br/>Waiting for W&B process to finish, PID 5712... <strong style=\"color:green\">(success).</strong>"
      ],
      "text/plain": [
       "<IPython.core.display.HTML object>"
      ]
     },
     "metadata": {},
     "output_type": "display_data"
    },
    {
     "data": {
      "application/vnd.jupyter.widget-view+json": {
       "model_id": "",
       "version_major": 2,
       "version_minor": 0
      },
      "text/plain": [
       "VBox(children=(Label(value=' 0.00MB of 0.00MB uploaded (0.00MB deduped)\\r'), FloatProgress(value=1.0, max=1.0)…"
      ]
     },
     "metadata": {},
     "output_type": "display_data"
    },
    {
     "data": {
      "text/html": [
       "<style>\n",
       "    table.wandb td:nth-child(1) { padding: 0 10px; text-align: right }\n",
       "    .wandb-row { display: flex; flex-direction: row; flex-wrap: wrap; width: 100% }\n",
       "    .wandb-col { display: flex; flex-direction: column; flex-basis: 100%; flex: 1; padding: 10px; }\n",
       "    </style>\n",
       "<div class=\"wandb-row\"><div class=\"wandb-col\">\n",
       "</div><div class=\"wandb-col\">\n",
       "</div></div>\n",
       "Synced 4 W&B file(s), 0 media file(s), 0 artifact file(s) and 0 other file(s)\n",
       "<br/>Synced <strong style=\"color:#cdcd00\">soft-sweep-9</strong>: <a href=\"https://wandb.ai/vishal91099/Detail-1/runs/9tsy07gu\" target=\"_blank\">https://wandb.ai/vishal91099/Detail-1/runs/9tsy07gu</a><br/>\n",
       "Find logs at: <code>.\\wandb\\run-20220224_135759-9tsy07gu\\logs</code><br/>\n"
      ],
      "text/plain": [
       "<IPython.core.display.HTML object>"
      ]
     },
     "metadata": {},
     "output_type": "display_data"
    },
    {
     "data": {
      "text/html": [
       "Successfully finished last run (ID:9tsy07gu). Initializing new run:<br/>"
      ],
      "text/plain": [
       "<IPython.core.display.HTML object>"
      ]
     },
     "metadata": {},
     "output_type": "display_data"
    },
    {
     "data": {
      "text/html": [
       "\n",
       "                    Syncing run <strong><a href=\"https://wandb.ai/vishal91099/Detail-1/runs/9tsy07gu\" target=\"_blank\">soft-sweep-9</a></strong> to <a href=\"https://wandb.ai/vishal91099/Detail-1\" target=\"_blank\">Weights & Biases</a> (<a href=\"https://docs.wandb.com/integrations/jupyter.html\" target=\"_blank\">docs</a>).<br/>\n",
       "Sweep page: <a href=\"https://wandb.ai/vishal91099/Detail-1/sweeps/e8k0srji\" target=\"_blank\">https://wandb.ai/vishal91099/Detail-1/sweeps/e8k0srji</a><br/>\n",
       "\n",
       "                "
      ],
      "text/plain": [
       "<IPython.core.display.HTML object>"
      ]
     },
     "metadata": {},
     "output_type": "display_data"
    },
    {
     "name": "stdout",
     "output_type": "stream",
     "text": [
      "Epoch: 0\n",
      "Train Accuracy 10.579629629629629\n",
      "Loss in Training 27883.23082799066\n",
      "Validation Accuracy 10.733333333333334\n",
      "Loss in Validation 5269.043063513563\n",
      "Epoch: 1\n",
      "Train Accuracy 11.116666666666667\n",
      "Loss in Training 27795.622463520707\n",
      "Validation Accuracy 11.366666666666667\n",
      "Loss in Validation 5259.27010176341\n",
      "Epoch: 2\n",
      "Train Accuracy 11.700000000000001\n",
      "Loss in Training 27709.770221207804\n",
      "Validation Accuracy 11.899999999999999\n",
      "Loss in Validation 5249.666752671185\n",
      "Epoch: 3\n",
      "Train Accuracy 12.307407407407407\n",
      "Loss in Training 27625.44186161287\n",
      "Validation Accuracy 12.6\n",
      "Loss in Validation 5240.234538834667\n",
      "Epoch: 4\n",
      "Train Accuracy 12.983333333333333\n",
      "Loss in Training 27542.645624940793\n",
      "Validation Accuracy 13.183333333333334\n",
      "Loss in Validation 5230.974506723784\n",
      "Epoch: 5\n",
      "Train Accuracy 13.642592592592592\n",
      "Loss in Training 27461.385950291133\n",
      "Validation Accuracy 13.833333333333334\n",
      "Loss in Validation 5221.887250090752\n",
      "Epoch: 6\n",
      "Train Accuracy 14.229629629629631\n",
      "Loss in Training 27381.66367639721\n",
      "Validation Accuracy 14.366666666666667\n",
      "Loss in Validation 5212.972935378028\n",
      "Epoch: 7\n",
      "Train Accuracy 14.909259259259258\n",
      "Loss in Training 27303.476255533853\n",
      "Validation Accuracy 15.016666666666667\n",
      "Loss in Validation 5204.23132861162\n",
      "Epoch: 8\n",
      "Train Accuracy 15.533333333333331\n",
      "Loss in Training 27226.817977434646\n",
      "Validation Accuracy 15.916666666666668\n",
      "Loss in Validation 5195.66182330646\n",
      "Epoch: 9\n",
      "Train Accuracy 16.116666666666667\n",
      "Loss in Training 27151.680200106486\n",
      "Validation Accuracy 16.400000000000002\n",
      "Loss in Validation 5187.263468952391\n"
     ]
    },
    {
     "name": "stderr",
     "output_type": "stream",
     "text": [
      "\u001b[34m\u001b[1mwandb\u001b[0m: Agent Starting Run: ndol2ejq with config:\n",
      "\u001b[34m\u001b[1mwandb\u001b[0m: \tactivation: Tanh\n",
      "\u001b[34m\u001b[1mwandb\u001b[0m: \tbatch_size: 160\n",
      "\u001b[34m\u001b[1mwandb\u001b[0m: \tlearning_rate: 0.001\n",
      "\u001b[34m\u001b[1mwandb\u001b[0m: \tloss: CE\n",
      "\u001b[34m\u001b[1mwandb\u001b[0m: \tnum_epochs: 10\n",
      "\u001b[34m\u001b[1mwandb\u001b[0m: \tnum_hidden_layers: 4\n",
      "\u001b[34m\u001b[1mwandb\u001b[0m: \toptimizer: Momentum\n",
      "\u001b[34m\u001b[1mwandb\u001b[0m: \tsize_hidden_layer: 64\n",
      "\u001b[34m\u001b[1mwandb\u001b[0m: \tweight_init: Xavier\n"
     ]
    },
    {
     "data": {
      "text/html": [
       "\n",
       "                    Syncing run <strong><a href=\"https://wandb.ai/vishal91099/Detail-1/runs/ndol2ejq\" target=\"_blank\">quiet-sweep-10</a></strong> to <a href=\"https://wandb.ai/vishal91099/Detail-1\" target=\"_blank\">Weights & Biases</a> (<a href=\"https://docs.wandb.com/integrations/jupyter.html\" target=\"_blank\">docs</a>).<br/>\n",
       "Sweep page: <a href=\"https://wandb.ai/vishal91099/Detail-1/sweeps/e8k0srji\" target=\"_blank\">https://wandb.ai/vishal91099/Detail-1/sweeps/e8k0srji</a><br/>\n",
       "\n",
       "                "
      ],
      "text/plain": [
       "<IPython.core.display.HTML object>"
      ]
     },
     "metadata": {},
     "output_type": "display_data"
    },
    {
     "data": {
      "text/html": [
       "Finishing last run (ID:ndol2ejq) before initializing another..."
      ],
      "text/plain": [
       "<IPython.core.display.HTML object>"
      ]
     },
     "metadata": {},
     "output_type": "display_data"
    },
    {
     "data": {
      "text/html": [
       "<br/>Waiting for W&B process to finish, PID 5220... <strong style=\"color:green\">(success).</strong>"
      ],
      "text/plain": [
       "<IPython.core.display.HTML object>"
      ]
     },
     "metadata": {},
     "output_type": "display_data"
    },
    {
     "data": {
      "application/vnd.jupyter.widget-view+json": {
       "model_id": "",
       "version_major": 2,
       "version_minor": 0
      },
      "text/plain": [
       "VBox(children=(Label(value=' 0.00MB of 0.00MB uploaded (0.00MB deduped)\\r'), FloatProgress(value=1.0, max=1.0)…"
      ]
     },
     "metadata": {},
     "output_type": "display_data"
    },
    {
     "data": {
      "text/html": [
       "<style>\n",
       "    table.wandb td:nth-child(1) { padding: 0 10px; text-align: right }\n",
       "    .wandb-row { display: flex; flex-direction: row; flex-wrap: wrap; width: 100% }\n",
       "    .wandb-col { display: flex; flex-direction: column; flex-basis: 100%; flex: 1; padding: 10px; }\n",
       "    </style>\n",
       "<div class=\"wandb-row\"><div class=\"wandb-col\">\n",
       "</div><div class=\"wandb-col\">\n",
       "</div></div>\n",
       "Synced 4 W&B file(s), 0 media file(s), 0 artifact file(s) and 0 other file(s)\n",
       "<br/>Synced <strong style=\"color:#cdcd00\">quiet-sweep-10</strong>: <a href=\"https://wandb.ai/vishal91099/Detail-1/runs/ndol2ejq\" target=\"_blank\">https://wandb.ai/vishal91099/Detail-1/runs/ndol2ejq</a><br/>\n",
       "Find logs at: <code>.\\wandb\\run-20220224_140015-ndol2ejq\\logs</code><br/>\n"
      ],
      "text/plain": [
       "<IPython.core.display.HTML object>"
      ]
     },
     "metadata": {},
     "output_type": "display_data"
    },
    {
     "data": {
      "text/html": [
       "Successfully finished last run (ID:ndol2ejq). Initializing new run:<br/>"
      ],
      "text/plain": [
       "<IPython.core.display.HTML object>"
      ]
     },
     "metadata": {},
     "output_type": "display_data"
    },
    {
     "data": {
      "text/html": [
       "\n",
       "                    Syncing run <strong><a href=\"https://wandb.ai/vishal91099/Detail-1/runs/ndol2ejq\" target=\"_blank\">quiet-sweep-10</a></strong> to <a href=\"https://wandb.ai/vishal91099/Detail-1\" target=\"_blank\">Weights & Biases</a> (<a href=\"https://docs.wandb.com/integrations/jupyter.html\" target=\"_blank\">docs</a>).<br/>\n",
       "Sweep page: <a href=\"https://wandb.ai/vishal91099/Detail-1/sweeps/e8k0srji\" target=\"_blank\">https://wandb.ai/vishal91099/Detail-1/sweeps/e8k0srji</a><br/>\n",
       "\n",
       "                "
      ],
      "text/plain": [
       "<IPython.core.display.HTML object>"
      ]
     },
     "metadata": {},
     "output_type": "display_data"
    },
    {
     "name": "stdout",
     "output_type": "stream",
     "text": [
      "Epoch: 0\n",
      "Train Accuracy 17.333333333333336\n",
      "Loss in Training 27061.394314400837\n",
      "Validation Accuracy 17.599999999999998\n",
      "Loss in Validation 5180.768622832851\n",
      "Epoch: 1\n",
      "Train Accuracy 18.522222222222222\n",
      "Loss in Training 27009.068710603176\n",
      "Validation Accuracy 18.516666666666666\n",
      "Loss in Validation 5174.986026520202\n",
      "Epoch: 2\n",
      "Train Accuracy 19.659259259259258\n",
      "Loss in Training 26957.72709570049\n",
      "Validation Accuracy 19.833333333333332\n",
      "Loss in Validation 5169.297202915533\n",
      "Epoch: 3\n",
      "Train Accuracy 20.724074074074075\n",
      "Loss in Training 26907.22204264032\n",
      "Validation Accuracy 21.083333333333336\n",
      "Loss in Validation 5163.701570170779\n",
      "Epoch: 4\n",
      "Train Accuracy 21.814814814814813\n",
      "Loss in Training 26857.54752988907\n",
      "Validation Accuracy 22.483333333333334\n",
      "Loss in Validation 5158.198428114708\n",
      "Epoch: 5\n",
      "Train Accuracy 22.844444444444445\n",
      "Loss in Training 26808.696591173266\n",
      "Validation Accuracy 23.416666666666668\n",
      "Loss in Validation 5152.786969126934\n",
      "Epoch: 6\n",
      "Train Accuracy 23.87962962962963\n",
      "Loss in Training 26760.661399312965\n",
      "Validation Accuracy 24.366666666666667\n",
      "Loss in Validation 5147.4662886119095\n",
      "Epoch: 7\n",
      "Train Accuracy 24.92037037037037\n",
      "Loss in Training 26713.433346918853\n",
      "Validation Accuracy 25.25\n",
      "Loss in Validation 5142.2353950235865\n",
      "Epoch: 8\n",
      "Train Accuracy 25.887037037037036\n",
      "Loss in Training 26667.00312383795\n",
      "Validation Accuracy 26.1\n",
      "Loss in Validation 5137.093219405156\n",
      "Epoch: 9\n",
      "Train Accuracy 26.75\n",
      "Loss in Training 26621.36079126312\n",
      "Validation Accuracy 26.916666666666668\n",
      "Loss in Validation 5132.038624420637\n"
     ]
    },
    {
     "name": "stderr",
     "output_type": "stream",
     "text": [
      "\u001b[34m\u001b[1mwandb\u001b[0m: Agent Starting Run: wuubqdi6 with config:\n",
      "\u001b[34m\u001b[1mwandb\u001b[0m: \tactivation: Tanh\n",
      "\u001b[34m\u001b[1mwandb\u001b[0m: \tbatch_size: 160\n",
      "\u001b[34m\u001b[1mwandb\u001b[0m: \tlearning_rate: 0.001\n",
      "\u001b[34m\u001b[1mwandb\u001b[0m: \tloss: CE\n",
      "\u001b[34m\u001b[1mwandb\u001b[0m: \tnum_epochs: 10\n",
      "\u001b[34m\u001b[1mwandb\u001b[0m: \tnum_hidden_layers: 4\n",
      "\u001b[34m\u001b[1mwandb\u001b[0m: \toptimizer: Momentum\n",
      "\u001b[34m\u001b[1mwandb\u001b[0m: \tsize_hidden_layer: 128\n",
      "\u001b[34m\u001b[1mwandb\u001b[0m: \tweight_init: RandomNormal\n"
     ]
    },
    {
     "data": {
      "text/html": [
       "\n",
       "                    Syncing run <strong><a href=\"https://wandb.ai/vishal91099/Detail-1/runs/wuubqdi6\" target=\"_blank\">silvery-sweep-11</a></strong> to <a href=\"https://wandb.ai/vishal91099/Detail-1\" target=\"_blank\">Weights & Biases</a> (<a href=\"https://docs.wandb.com/integrations/jupyter.html\" target=\"_blank\">docs</a>).<br/>\n",
       "Sweep page: <a href=\"https://wandb.ai/vishal91099/Detail-1/sweeps/e8k0srji\" target=\"_blank\">https://wandb.ai/vishal91099/Detail-1/sweeps/e8k0srji</a><br/>\n",
       "\n",
       "                "
      ],
      "text/plain": [
       "<IPython.core.display.HTML object>"
      ]
     },
     "metadata": {},
     "output_type": "display_data"
    },
    {
     "data": {
      "text/html": [
       "Finishing last run (ID:wuubqdi6) before initializing another..."
      ],
      "text/plain": [
       "<IPython.core.display.HTML object>"
      ]
     },
     "metadata": {},
     "output_type": "display_data"
    },
    {
     "data": {
      "text/html": [
       "<br/>Waiting for W&B process to finish, PID 5844... <strong style=\"color:green\">(success).</strong>"
      ],
      "text/plain": [
       "<IPython.core.display.HTML object>"
      ]
     },
     "metadata": {},
     "output_type": "display_data"
    },
    {
     "data": {
      "application/vnd.jupyter.widget-view+json": {
       "model_id": "",
       "version_major": 2,
       "version_minor": 0
      },
      "text/plain": [
       "VBox(children=(Label(value=' 0.00MB of 0.00MB uploaded (0.00MB deduped)\\r'), FloatProgress(value=1.0, max=1.0)…"
      ]
     },
     "metadata": {},
     "output_type": "display_data"
    },
    {
     "data": {
      "text/html": [
       "<style>\n",
       "    table.wandb td:nth-child(1) { padding: 0 10px; text-align: right }\n",
       "    .wandb-row { display: flex; flex-direction: row; flex-wrap: wrap; width: 100% }\n",
       "    .wandb-col { display: flex; flex-direction: column; flex-basis: 100%; flex: 1; padding: 10px; }\n",
       "    </style>\n",
       "<div class=\"wandb-row\"><div class=\"wandb-col\">\n",
       "</div><div class=\"wandb-col\">\n",
       "</div></div>\n",
       "Synced 4 W&B file(s), 0 media file(s), 0 artifact file(s) and 0 other file(s)\n",
       "<br/>Synced <strong style=\"color:#cdcd00\">silvery-sweep-11</strong>: <a href=\"https://wandb.ai/vishal91099/Detail-1/runs/wuubqdi6\" target=\"_blank\">https://wandb.ai/vishal91099/Detail-1/runs/wuubqdi6</a><br/>\n",
       "Find logs at: <code>.\\wandb\\run-20220224_140248-wuubqdi6\\logs</code><br/>\n"
      ],
      "text/plain": [
       "<IPython.core.display.HTML object>"
      ]
     },
     "metadata": {},
     "output_type": "display_data"
    },
    {
     "data": {
      "text/html": [
       "Successfully finished last run (ID:wuubqdi6). Initializing new run:<br/>"
      ],
      "text/plain": [
       "<IPython.core.display.HTML object>"
      ]
     },
     "metadata": {},
     "output_type": "display_data"
    },
    {
     "data": {
      "text/html": [
       "\n",
       "                    Syncing run <strong><a href=\"https://wandb.ai/vishal91099/Detail-1/runs/wuubqdi6\" target=\"_blank\">silvery-sweep-11</a></strong> to <a href=\"https://wandb.ai/vishal91099/Detail-1\" target=\"_blank\">Weights & Biases</a> (<a href=\"https://docs.wandb.com/integrations/jupyter.html\" target=\"_blank\">docs</a>).<br/>\n",
       "Sweep page: <a href=\"https://wandb.ai/vishal91099/Detail-1/sweeps/e8k0srji\" target=\"_blank\">https://wandb.ai/vishal91099/Detail-1/sweeps/e8k0srji</a><br/>\n",
       "\n",
       "                "
      ],
      "text/plain": [
       "<IPython.core.display.HTML object>"
      ]
     },
     "metadata": {},
     "output_type": "display_data"
    },
    {
     "name": "stdout",
     "output_type": "stream",
     "text": [
      "Epoch: 0\n",
      "Train Accuracy 6.888888888888889\n",
      "Loss in Training 28434.624877729977\n",
      "Validation Accuracy 6.883333333333333\n",
      "Loss in Validation 5334.815724188295\n",
      "Epoch: 1\n",
      "Train Accuracy 8.011111111111111\n",
      "Loss in Training 28284.49582923736\n",
      "Validation Accuracy 8.016666666666666\n",
      "Loss in Validation 5318.179827058563\n",
      "Epoch: 2\n",
      "Train Accuracy 9.218518518518518\n",
      "Loss in Training 28138.116249303588\n",
      "Validation Accuracy 9.016666666666667\n",
      "Loss in Validation 5301.9136530079795\n",
      "Epoch: 3\n",
      "Train Accuracy 10.47037037037037\n",
      "Loss in Training 27995.083565782\n",
      "Validation Accuracy 10.216666666666667\n",
      "Loss in Validation 5286.015708412513\n",
      "Epoch: 4\n",
      "Train Accuracy 11.848148148148148\n",
      "Loss in Training 27855.379150036646\n",
      "Validation Accuracy 11.816666666666666\n",
      "Loss in Validation 5270.483942609746\n",
      "Epoch: 5\n",
      "Train Accuracy 13.144444444444444\n",
      "Loss in Training 27718.978900623428\n",
      "Validation Accuracy 13.283333333333333\n",
      "Loss in Validation 5255.3157539709155\n",
      "Epoch: 6\n",
      "Train Accuracy 14.45925925925926\n",
      "Loss in Training 27585.853397835584\n",
      "Validation Accuracy 14.7\n",
      "Loss in Validation 5240.508000481253\n",
      "Epoch: 7\n",
      "Train Accuracy 15.7\n",
      "Loss in Training 27455.96811466937\n",
      "Validation Accuracy 16.05\n",
      "Loss in Validation 5226.057014953905\n",
      "Epoch: 8\n",
      "Train Accuracy 16.98148148148148\n",
      "Loss in Training 27329.283679093838\n",
      "Validation Accuracy 17.433333333333334\n",
      "Loss in Validation 5211.958624946238\n",
      "Epoch: 9\n",
      "Train Accuracy 18.083333333333336\n",
      "Loss in Training 27205.75618015459\n",
      "Validation Accuracy 18.5\n",
      "Loss in Validation 5198.208177322424\n"
     ]
    },
    {
     "name": "stderr",
     "output_type": "stream",
     "text": [
      "\u001b[34m\u001b[1mwandb\u001b[0m: Sweep Agent: Waiting for job.\n",
      "\u001b[34m\u001b[1mwandb\u001b[0m: Job received.\n",
      "\u001b[34m\u001b[1mwandb\u001b[0m: Agent Starting Run: wi9elwag with config:\n",
      "\u001b[34m\u001b[1mwandb\u001b[0m: \tactivation: Tanh\n",
      "\u001b[34m\u001b[1mwandb\u001b[0m: \tbatch_size: 160\n",
      "\u001b[34m\u001b[1mwandb\u001b[0m: \tlearning_rate: 0.001\n",
      "\u001b[34m\u001b[1mwandb\u001b[0m: \tloss: CE\n",
      "\u001b[34m\u001b[1mwandb\u001b[0m: \tnum_epochs: 10\n",
      "\u001b[34m\u001b[1mwandb\u001b[0m: \tnum_hidden_layers: 4\n",
      "\u001b[34m\u001b[1mwandb\u001b[0m: \toptimizer: Momentum\n",
      "\u001b[34m\u001b[1mwandb\u001b[0m: \tsize_hidden_layer: 128\n",
      "\u001b[34m\u001b[1mwandb\u001b[0m: \tweight_init: Xavier\n"
     ]
    },
    {
     "data": {
      "text/html": [
       "\n",
       "                    Syncing run <strong><a href=\"https://wandb.ai/vishal91099/Detail-1/runs/wi9elwag\" target=\"_blank\">fiery-sweep-12</a></strong> to <a href=\"https://wandb.ai/vishal91099/Detail-1\" target=\"_blank\">Weights & Biases</a> (<a href=\"https://docs.wandb.com/integrations/jupyter.html\" target=\"_blank\">docs</a>).<br/>\n",
       "Sweep page: <a href=\"https://wandb.ai/vishal91099/Detail-1/sweeps/e8k0srji\" target=\"_blank\">https://wandb.ai/vishal91099/Detail-1/sweeps/e8k0srji</a><br/>\n",
       "\n",
       "                "
      ],
      "text/plain": [
       "<IPython.core.display.HTML object>"
      ]
     },
     "metadata": {},
     "output_type": "display_data"
    },
    {
     "data": {
      "text/html": [
       "Finishing last run (ID:wi9elwag) before initializing another..."
      ],
      "text/plain": [
       "<IPython.core.display.HTML object>"
      ]
     },
     "metadata": {},
     "output_type": "display_data"
    },
    {
     "data": {
      "text/html": [
       "<br/>Waiting for W&B process to finish, PID 11612... <strong style=\"color:green\">(success).</strong>"
      ],
      "text/plain": [
       "<IPython.core.display.HTML object>"
      ]
     },
     "metadata": {},
     "output_type": "display_data"
    },
    {
     "data": {
      "application/vnd.jupyter.widget-view+json": {
       "model_id": "",
       "version_major": 2,
       "version_minor": 0
      },
      "text/plain": [
       "VBox(children=(Label(value=' 0.00MB of 0.00MB uploaded (0.00MB deduped)\\r'), FloatProgress(value=1.0, max=1.0)…"
      ]
     },
     "metadata": {},
     "output_type": "display_data"
    },
    {
     "data": {
      "text/html": [
       "<style>\n",
       "    table.wandb td:nth-child(1) { padding: 0 10px; text-align: right }\n",
       "    .wandb-row { display: flex; flex-direction: row; flex-wrap: wrap; width: 100% }\n",
       "    .wandb-col { display: flex; flex-direction: column; flex-basis: 100%; flex: 1; padding: 10px; }\n",
       "    </style>\n",
       "<div class=\"wandb-row\"><div class=\"wandb-col\">\n",
       "</div><div class=\"wandb-col\">\n",
       "</div></div>\n",
       "Synced 4 W&B file(s), 0 media file(s), 0 artifact file(s) and 0 other file(s)\n",
       "<br/>Synced <strong style=\"color:#cdcd00\">fiery-sweep-12</strong>: <a href=\"https://wandb.ai/vishal91099/Detail-1/runs/wi9elwag\" target=\"_blank\">https://wandb.ai/vishal91099/Detail-1/runs/wi9elwag</a><br/>\n",
       "Find logs at: <code>.\\wandb\\run-20220224_140608-wi9elwag\\logs</code><br/>\n"
      ],
      "text/plain": [
       "<IPython.core.display.HTML object>"
      ]
     },
     "metadata": {},
     "output_type": "display_data"
    },
    {
     "data": {
      "text/html": [
       "Successfully finished last run (ID:wi9elwag). Initializing new run:<br/>"
      ],
      "text/plain": [
       "<IPython.core.display.HTML object>"
      ]
     },
     "metadata": {},
     "output_type": "display_data"
    },
    {
     "data": {
      "text/html": [
       "\n",
       "                    Syncing run <strong><a href=\"https://wandb.ai/vishal91099/Detail-1/runs/wi9elwag\" target=\"_blank\">fiery-sweep-12</a></strong> to <a href=\"https://wandb.ai/vishal91099/Detail-1\" target=\"_blank\">Weights & Biases</a> (<a href=\"https://docs.wandb.com/integrations/jupyter.html\" target=\"_blank\">docs</a>).<br/>\n",
       "Sweep page: <a href=\"https://wandb.ai/vishal91099/Detail-1/sweeps/e8k0srji\" target=\"_blank\">https://wandb.ai/vishal91099/Detail-1/sweeps/e8k0srji</a><br/>\n",
       "\n",
       "                "
      ],
      "text/plain": [
       "<IPython.core.display.HTML object>"
      ]
     },
     "metadata": {},
     "output_type": "display_data"
    },
    {
     "name": "stdout",
     "output_type": "stream",
     "text": [
      "Epoch: 0\n",
      "Train Accuracy 13.27037037037037\n",
      "Loss in Training 27359.5245794401\n",
      "Validation Accuracy 12.8\n",
      "Loss in Validation 5214.178710693929\n",
      "Epoch: 1\n",
      "Train Accuracy 14.324074074074074\n",
      "Loss in Training 27277.952173341735\n",
      "Validation Accuracy 14.066666666666666\n",
      "Loss in Validation 5205.149082445953\n",
      "Epoch: 2\n",
      "Train Accuracy 15.416666666666668\n",
      "Loss in Training 27197.949695070467\n",
      "Validation Accuracy 15.033333333333335\n",
      "Loss in Validation 5196.26882274087\n",
      "Epoch: 3\n",
      "Train Accuracy 16.62037037037037\n",
      "Loss in Training 27119.29962186739\n",
      "Validation Accuracy 16.216666666666665\n",
      "Loss in Validation 5187.536953907608\n",
      "Epoch: 4\n",
      "Train Accuracy 17.78148148148148\n",
      "Loss in Training 27041.991970789728\n",
      "Validation Accuracy 17.416666666666668\n",
      "Loss in Validation 5178.952380539444\n",
      "Epoch: 5\n",
      "Train Accuracy 18.864814814814814\n",
      "Loss in Training 26966.015711410128\n",
      "Validation Accuracy 18.75\n",
      "Loss in Validation 5170.513894892141\n",
      "Epoch: 6\n",
      "Train Accuracy 20.020370370370372\n",
      "Loss in Training 26891.358817955\n",
      "Validation Accuracy 20.033333333333335\n",
      "Loss in Validation 5162.2201825833245\n",
      "Epoch: 7\n",
      "Train Accuracy 21.151851851851852\n",
      "Loss in Training 26818.008324124406\n",
      "Validation Accuracy 21.099999999999998\n",
      "Loss in Validation 5154.069828544512\n",
      "Epoch: 8\n",
      "Train Accuracy 22.27962962962963\n",
      "Loss in Training 26745.950380129878\n",
      "Validation Accuracy 22.083333333333332\n",
      "Loss in Validation 5146.061323177708\n",
      "Epoch: 9\n",
      "Train Accuracy 23.374074074074073\n",
      "Loss in Training 26675.17031148291\n",
      "Validation Accuracy 23.216666666666665\n",
      "Loss in Validation 5138.193068669291\n"
     ]
    },
    {
     "name": "stderr",
     "output_type": "stream",
     "text": [
      "\u001b[34m\u001b[1mwandb\u001b[0m: Agent Starting Run: 7pp487rf with config:\n",
      "\u001b[34m\u001b[1mwandb\u001b[0m: \tactivation: Tanh\n",
      "\u001b[34m\u001b[1mwandb\u001b[0m: \tbatch_size: 160\n",
      "\u001b[34m\u001b[1mwandb\u001b[0m: \tlearning_rate: 0.001\n",
      "\u001b[34m\u001b[1mwandb\u001b[0m: \tloss: CE\n",
      "\u001b[34m\u001b[1mwandb\u001b[0m: \tnum_epochs: 10\n",
      "\u001b[34m\u001b[1mwandb\u001b[0m: \tnum_hidden_layers: 4\n",
      "\u001b[34m\u001b[1mwandb\u001b[0m: \toptimizer: Nag\n",
      "\u001b[34m\u001b[1mwandb\u001b[0m: \tsize_hidden_layer: 32\n",
      "\u001b[34m\u001b[1mwandb\u001b[0m: \tweight_init: RandomNormal\n"
     ]
    },
    {
     "data": {
      "text/html": [
       "\n",
       "                    Syncing run <strong><a href=\"https://wandb.ai/vishal91099/Detail-1/runs/7pp487rf\" target=\"_blank\">misty-sweep-13</a></strong> to <a href=\"https://wandb.ai/vishal91099/Detail-1\" target=\"_blank\">Weights & Biases</a> (<a href=\"https://docs.wandb.com/integrations/jupyter.html\" target=\"_blank\">docs</a>).<br/>\n",
       "Sweep page: <a href=\"https://wandb.ai/vishal91099/Detail-1/sweeps/e8k0srji\" target=\"_blank\">https://wandb.ai/vishal91099/Detail-1/sweeps/e8k0srji</a><br/>\n",
       "\n",
       "                "
      ],
      "text/plain": [
       "<IPython.core.display.HTML object>"
      ]
     },
     "metadata": {},
     "output_type": "display_data"
    },
    {
     "data": {
      "text/html": [
       "Finishing last run (ID:7pp487rf) before initializing another..."
      ],
      "text/plain": [
       "<IPython.core.display.HTML object>"
      ]
     },
     "metadata": {},
     "output_type": "display_data"
    },
    {
     "data": {
      "text/html": [
       "<br/>Waiting for W&B process to finish, PID 15132... <strong style=\"color:green\">(success).</strong>"
      ],
      "text/plain": [
       "<IPython.core.display.HTML object>"
      ]
     },
     "metadata": {},
     "output_type": "display_data"
    },
    {
     "data": {
      "application/vnd.jupyter.widget-view+json": {
       "model_id": "",
       "version_major": 2,
       "version_minor": 0
      },
      "text/plain": [
       "VBox(children=(Label(value=' 0.00MB of 0.00MB uploaded (0.00MB deduped)\\r'), FloatProgress(value=1.0, max=1.0)…"
      ]
     },
     "metadata": {},
     "output_type": "display_data"
    },
    {
     "data": {
      "text/html": [
       "<style>\n",
       "    table.wandb td:nth-child(1) { padding: 0 10px; text-align: right }\n",
       "    .wandb-row { display: flex; flex-direction: row; flex-wrap: wrap; width: 100% }\n",
       "    .wandb-col { display: flex; flex-direction: column; flex-basis: 100%; flex: 1; padding: 10px; }\n",
       "    </style>\n",
       "<div class=\"wandb-row\"><div class=\"wandb-col\">\n",
       "</div><div class=\"wandb-col\">\n",
       "</div></div>\n",
       "Synced 4 W&B file(s), 0 media file(s), 0 artifact file(s) and 0 other file(s)\n",
       "<br/>Synced <strong style=\"color:#cdcd00\">misty-sweep-13</strong>: <a href=\"https://wandb.ai/vishal91099/Detail-1/runs/7pp487rf\" target=\"_blank\">https://wandb.ai/vishal91099/Detail-1/runs/7pp487rf</a><br/>\n",
       "Find logs at: <code>.\\wandb\\run-20220224_140907-7pp487rf\\logs</code><br/>\n"
      ],
      "text/plain": [
       "<IPython.core.display.HTML object>"
      ]
     },
     "metadata": {},
     "output_type": "display_data"
    },
    {
     "data": {
      "text/html": [
       "Successfully finished last run (ID:7pp487rf). Initializing new run:<br/>"
      ],
      "text/plain": [
       "<IPython.core.display.HTML object>"
      ]
     },
     "metadata": {},
     "output_type": "display_data"
    },
    {
     "data": {
      "text/html": [
       "\n",
       "                    Syncing run <strong><a href=\"https://wandb.ai/vishal91099/Detail-1/runs/7pp487rf\" target=\"_blank\">misty-sweep-13</a></strong> to <a href=\"https://wandb.ai/vishal91099/Detail-1\" target=\"_blank\">Weights & Biases</a> (<a href=\"https://docs.wandb.com/integrations/jupyter.html\" target=\"_blank\">docs</a>).<br/>\n",
       "Sweep page: <a href=\"https://wandb.ai/vishal91099/Detail-1/sweeps/e8k0srji\" target=\"_blank\">https://wandb.ai/vishal91099/Detail-1/sweeps/e8k0srji</a><br/>\n",
       "\n",
       "                "
      ],
      "text/plain": [
       "<IPython.core.display.HTML object>"
      ]
     },
     "metadata": {},
     "output_type": "display_data"
    },
    {
     "name": "stdout",
     "output_type": "stream",
     "text": [
      "Epoch: 0\n",
      "Train Accuracy 10.118518518518519\n",
      "Loss in Training 28017.803190120358\n",
      "Validation Accuracy 9.833333333333332\n",
      "Loss in Validation 5289.961631397634\n",
      "Epoch: 1\n",
      "Train Accuracy 10.12037037037037\n",
      "Loss in Training 28017.72171168214\n",
      "Validation Accuracy 9.85\n",
      "Loss in Validation 5289.952603175693\n",
      "Epoch: 2\n",
      "Train Accuracy 10.12037037037037\n",
      "Loss in Training 28017.640465590786\n",
      "Validation Accuracy 9.85\n",
      "Loss in Validation 5289.943575039326\n",
      "Epoch: 3\n",
      "Train Accuracy 10.12037037037037\n",
      "Loss in Training 28017.559220401898\n",
      "Validation Accuracy 9.85\n",
      "Loss in Validation 5289.934546988538\n",
      "Epoch: 4\n",
      "Train Accuracy 10.122222222222224\n",
      "Loss in Training 28017.477976115595\n",
      "Validation Accuracy 9.85\n",
      "Loss in Validation 5289.925519023342\n",
      "Epoch: 5\n",
      "Train Accuracy 10.122222222222224\n",
      "Loss in Training 28017.39673273197\n",
      "Validation Accuracy 9.85\n",
      "Loss in Validation 5289.916491143742\n",
      "Epoch: 6\n",
      "Train Accuracy 10.122222222222224\n",
      "Loss in Training 28017.31549025099\n",
      "Validation Accuracy 9.85\n",
      "Loss in Validation 5289.907463349749\n",
      "Epoch: 7\n",
      "Train Accuracy 10.124074074074073\n",
      "Loss in Training 28017.234248672852\n",
      "Validation Accuracy 9.85\n",
      "Loss in Validation 5289.898435641371\n",
      "Epoch: 8\n",
      "Train Accuracy 10.124074074074073\n",
      "Loss in Training 28017.1530079975\n",
      "Validation Accuracy 9.85\n",
      "Loss in Validation 5289.889408018617\n",
      "Epoch: 9\n",
      "Train Accuracy 10.127777777777776\n",
      "Loss in Training 28017.07176822516\n",
      "Validation Accuracy 9.85\n",
      "Loss in Validation 5289.8803804814925\n"
     ]
    },
    {
     "name": "stderr",
     "output_type": "stream",
     "text": [
      "\u001b[34m\u001b[1mwandb\u001b[0m: Sweep Agent: Waiting for job.\n",
      "\u001b[34m\u001b[1mwandb\u001b[0m: Job received.\n",
      "\u001b[34m\u001b[1mwandb\u001b[0m: Agent Starting Run: kqnykbhi with config:\n",
      "\u001b[34m\u001b[1mwandb\u001b[0m: \tactivation: Tanh\n",
      "\u001b[34m\u001b[1mwandb\u001b[0m: \tbatch_size: 160\n",
      "\u001b[34m\u001b[1mwandb\u001b[0m: \tlearning_rate: 0.001\n",
      "\u001b[34m\u001b[1mwandb\u001b[0m: \tloss: CE\n",
      "\u001b[34m\u001b[1mwandb\u001b[0m: \tnum_epochs: 10\n",
      "\u001b[34m\u001b[1mwandb\u001b[0m: \tnum_hidden_layers: 4\n",
      "\u001b[34m\u001b[1mwandb\u001b[0m: \toptimizer: Nag\n",
      "\u001b[34m\u001b[1mwandb\u001b[0m: \tsize_hidden_layer: 32\n",
      "\u001b[34m\u001b[1mwandb\u001b[0m: \tweight_init: Xavier\n"
     ]
    },
    {
     "data": {
      "text/html": [
       "\n",
       "                    Syncing run <strong><a href=\"https://wandb.ai/vishal91099/Detail-1/runs/kqnykbhi\" target=\"_blank\">treasured-sweep-14</a></strong> to <a href=\"https://wandb.ai/vishal91099/Detail-1\" target=\"_blank\">Weights & Biases</a> (<a href=\"https://docs.wandb.com/integrations/jupyter.html\" target=\"_blank\">docs</a>).<br/>\n",
       "Sweep page: <a href=\"https://wandb.ai/vishal91099/Detail-1/sweeps/e8k0srji\" target=\"_blank\">https://wandb.ai/vishal91099/Detail-1/sweeps/e8k0srji</a><br/>\n",
       "\n",
       "                "
      ],
      "text/plain": [
       "<IPython.core.display.HTML object>"
      ]
     },
     "metadata": {},
     "output_type": "display_data"
    },
    {
     "data": {
      "text/html": [
       "Finishing last run (ID:kqnykbhi) before initializing another..."
      ],
      "text/plain": [
       "<IPython.core.display.HTML object>"
      ]
     },
     "metadata": {},
     "output_type": "display_data"
    },
    {
     "data": {
      "text/html": [
       "<br/>Waiting for W&B process to finish, PID 2508... <strong style=\"color:green\">(success).</strong>"
      ],
      "text/plain": [
       "<IPython.core.display.HTML object>"
      ]
     },
     "metadata": {},
     "output_type": "display_data"
    },
    {
     "data": {
      "application/vnd.jupyter.widget-view+json": {
       "model_id": "",
       "version_major": 2,
       "version_minor": 0
      },
      "text/plain": [
       "VBox(children=(Label(value=' 0.00MB of 0.00MB uploaded (0.00MB deduped)\\r'), FloatProgress(value=1.0, max=1.0)…"
      ]
     },
     "metadata": {},
     "output_type": "display_data"
    },
    {
     "data": {
      "text/html": [
       "<style>\n",
       "    table.wandb td:nth-child(1) { padding: 0 10px; text-align: right }\n",
       "    .wandb-row { display: flex; flex-direction: row; flex-wrap: wrap; width: 100% }\n",
       "    .wandb-col { display: flex; flex-direction: column; flex-basis: 100%; flex: 1; padding: 10px; }\n",
       "    </style>\n",
       "<div class=\"wandb-row\"><div class=\"wandb-col\">\n",
       "</div><div class=\"wandb-col\">\n",
       "</div></div>\n",
       "Synced 4 W&B file(s), 0 media file(s), 0 artifact file(s) and 0 other file(s)\n",
       "<br/>Synced <strong style=\"color:#cdcd00\">treasured-sweep-14</strong>: <a href=\"https://wandb.ai/vishal91099/Detail-1/runs/kqnykbhi\" target=\"_blank\">https://wandb.ai/vishal91099/Detail-1/runs/kqnykbhi</a><br/>\n",
       "Find logs at: <code>.\\wandb\\run-20220224_141143-kqnykbhi\\logs</code><br/>\n"
      ],
      "text/plain": [
       "<IPython.core.display.HTML object>"
      ]
     },
     "metadata": {},
     "output_type": "display_data"
    },
    {
     "data": {
      "text/html": [
       "Successfully finished last run (ID:kqnykbhi). Initializing new run:<br/>"
      ],
      "text/plain": [
       "<IPython.core.display.HTML object>"
      ]
     },
     "metadata": {},
     "output_type": "display_data"
    },
    {
     "data": {
      "text/html": [
       "\n",
       "                    Syncing run <strong><a href=\"https://wandb.ai/vishal91099/Detail-1/runs/kqnykbhi\" target=\"_blank\">treasured-sweep-14</a></strong> to <a href=\"https://wandb.ai/vishal91099/Detail-1\" target=\"_blank\">Weights & Biases</a> (<a href=\"https://docs.wandb.com/integrations/jupyter.html\" target=\"_blank\">docs</a>).<br/>\n",
       "Sweep page: <a href=\"https://wandb.ai/vishal91099/Detail-1/sweeps/e8k0srji\" target=\"_blank\">https://wandb.ai/vishal91099/Detail-1/sweeps/e8k0srji</a><br/>\n",
       "\n",
       "                "
      ],
      "text/plain": [
       "<IPython.core.display.HTML object>"
      ]
     },
     "metadata": {},
     "output_type": "display_data"
    },
    {
     "name": "stdout",
     "output_type": "stream",
     "text": [
      "Epoch: 0\n",
      "Train Accuracy 11.127777777777778\n",
      "Loss in Training 27329.839079346923\n",
      "Validation Accuracy 11.35\n",
      "Loss in Validation 5208.556824790545\n",
      "Epoch: 1\n",
      "Train Accuracy 11.127777777777778\n",
      "Loss in Training 27329.769298984542\n",
      "Validation Accuracy 11.35\n",
      "Loss in Validation 5208.549037287573\n",
      "Epoch: 2\n",
      "Train Accuracy 11.12962962962963\n",
      "Loss in Training 27329.69969748812\n",
      "Validation Accuracy 11.35\n",
      "Loss in Validation 5208.541249963169\n",
      "Epoch: 3\n",
      "Train Accuracy 11.12962962962963\n",
      "Loss in Training 27329.63009755038\n",
      "Validation Accuracy 11.35\n",
      "Loss in Validation 5208.533462817339\n",
      "Epoch: 4\n",
      "Train Accuracy 11.12962962962963\n",
      "Loss in Training 27329.56049917144\n",
      "Validation Accuracy 11.35\n",
      "Loss in Validation 5208.525675850088\n",
      "Epoch: 5\n",
      "Train Accuracy 11.131481481481481\n",
      "Loss in Training 27329.490902351303\n",
      "Validation Accuracy 11.35\n",
      "Loss in Validation 5208.517889061423\n",
      "Epoch: 6\n",
      "Train Accuracy 11.131481481481481\n",
      "Loss in Training 27329.42130709005\n",
      "Validation Accuracy 11.35\n",
      "Loss in Validation 5208.510102451351\n",
      "Epoch: 7\n",
      "Train Accuracy 11.131481481481481\n",
      "Loss in Training 27329.35171338771\n",
      "Validation Accuracy 11.35\n",
      "Loss in Validation 5208.502316019874\n",
      "Epoch: 8\n",
      "Train Accuracy 11.133333333333335\n",
      "Loss in Training 27329.282121244367\n",
      "Validation Accuracy 11.35\n",
      "Loss in Validation 5208.494529767001\n",
      "Epoch: 9\n",
      "Train Accuracy 11.133333333333335\n",
      "Loss in Training 27329.212530659996\n",
      "Validation Accuracy 11.35\n",
      "Loss in Validation 5208.486743692738\n"
     ]
    },
    {
     "name": "stderr",
     "output_type": "stream",
     "text": [
      "\u001b[34m\u001b[1mwandb\u001b[0m: Sweep Agent: Waiting for job.\n",
      "\u001b[34m\u001b[1mwandb\u001b[0m: Job received.\n",
      "\u001b[34m\u001b[1mwandb\u001b[0m: Agent Starting Run: ptvgh6cp with config:\n",
      "\u001b[34m\u001b[1mwandb\u001b[0m: \tactivation: Tanh\n",
      "\u001b[34m\u001b[1mwandb\u001b[0m: \tbatch_size: 160\n",
      "\u001b[34m\u001b[1mwandb\u001b[0m: \tlearning_rate: 0.001\n",
      "\u001b[34m\u001b[1mwandb\u001b[0m: \tloss: CE\n",
      "\u001b[34m\u001b[1mwandb\u001b[0m: \tnum_epochs: 10\n",
      "\u001b[34m\u001b[1mwandb\u001b[0m: \tnum_hidden_layers: 4\n",
      "\u001b[34m\u001b[1mwandb\u001b[0m: \toptimizer: Nag\n",
      "\u001b[34m\u001b[1mwandb\u001b[0m: \tsize_hidden_layer: 64\n",
      "\u001b[34m\u001b[1mwandb\u001b[0m: \tweight_init: RandomNormal\n"
     ]
    },
    {
     "data": {
      "text/html": [
       "\n",
       "                    Syncing run <strong><a href=\"https://wandb.ai/vishal91099/Detail-1/runs/ptvgh6cp\" target=\"_blank\">balmy-sweep-15</a></strong> to <a href=\"https://wandb.ai/vishal91099/Detail-1\" target=\"_blank\">Weights & Biases</a> (<a href=\"https://docs.wandb.com/integrations/jupyter.html\" target=\"_blank\">docs</a>).<br/>\n",
       "Sweep page: <a href=\"https://wandb.ai/vishal91099/Detail-1/sweeps/e8k0srji\" target=\"_blank\">https://wandb.ai/vishal91099/Detail-1/sweeps/e8k0srji</a><br/>\n",
       "\n",
       "                "
      ],
      "text/plain": [
       "<IPython.core.display.HTML object>"
      ]
     },
     "metadata": {},
     "output_type": "display_data"
    },
    {
     "data": {
      "text/html": [
       "Finishing last run (ID:ptvgh6cp) before initializing another..."
      ],
      "text/plain": [
       "<IPython.core.display.HTML object>"
      ]
     },
     "metadata": {},
     "output_type": "display_data"
    },
    {
     "data": {
      "text/html": [
       "<br/>Waiting for W&B process to finish, PID 5916... <strong style=\"color:green\">(success).</strong>"
      ],
      "text/plain": [
       "<IPython.core.display.HTML object>"
      ]
     },
     "metadata": {},
     "output_type": "display_data"
    },
    {
     "data": {
      "application/vnd.jupyter.widget-view+json": {
       "model_id": "",
       "version_major": 2,
       "version_minor": 0
      },
      "text/plain": [
       "VBox(children=(Label(value=' 0.00MB of 0.00MB uploaded (0.00MB deduped)\\r'), FloatProgress(value=1.0, max=1.0)…"
      ]
     },
     "metadata": {},
     "output_type": "display_data"
    },
    {
     "data": {
      "text/html": [
       "<style>\n",
       "    table.wandb td:nth-child(1) { padding: 0 10px; text-align: right }\n",
       "    .wandb-row { display: flex; flex-direction: row; flex-wrap: wrap; width: 100% }\n",
       "    .wandb-col { display: flex; flex-direction: column; flex-basis: 100%; flex: 1; padding: 10px; }\n",
       "    </style>\n",
       "<div class=\"wandb-row\"><div class=\"wandb-col\">\n",
       "</div><div class=\"wandb-col\">\n",
       "</div></div>\n",
       "Synced 4 W&B file(s), 0 media file(s), 0 artifact file(s) and 0 other file(s)\n",
       "<br/>Synced <strong style=\"color:#cdcd00\">balmy-sweep-15</strong>: <a href=\"https://wandb.ai/vishal91099/Detail-1/runs/ptvgh6cp\" target=\"_blank\">https://wandb.ai/vishal91099/Detail-1/runs/ptvgh6cp</a><br/>\n",
       "Find logs at: <code>.\\wandb\\run-20220224_141402-ptvgh6cp\\logs</code><br/>\n"
      ],
      "text/plain": [
       "<IPython.core.display.HTML object>"
      ]
     },
     "metadata": {},
     "output_type": "display_data"
    },
    {
     "data": {
      "text/html": [
       "Successfully finished last run (ID:ptvgh6cp). Initializing new run:<br/>"
      ],
      "text/plain": [
       "<IPython.core.display.HTML object>"
      ]
     },
     "metadata": {},
     "output_type": "display_data"
    },
    {
     "data": {
      "text/html": [
       "\n",
       "                    Syncing run <strong><a href=\"https://wandb.ai/vishal91099/Detail-1/runs/ptvgh6cp\" target=\"_blank\">balmy-sweep-15</a></strong> to <a href=\"https://wandb.ai/vishal91099/Detail-1\" target=\"_blank\">Weights & Biases</a> (<a href=\"https://docs.wandb.com/integrations/jupyter.html\" target=\"_blank\">docs</a>).<br/>\n",
       "Sweep page: <a href=\"https://wandb.ai/vishal91099/Detail-1/sweeps/e8k0srji\" target=\"_blank\">https://wandb.ai/vishal91099/Detail-1/sweeps/e8k0srji</a><br/>\n",
       "\n",
       "                "
      ],
      "text/plain": [
       "<IPython.core.display.HTML object>"
      ]
     },
     "metadata": {},
     "output_type": "display_data"
    },
    {
     "name": "stdout",
     "output_type": "stream",
     "text": [
      "Epoch: 0\n",
      "Train Accuracy 8.572222222222223\n",
      "Loss in Training 27984.99278462412\n",
      "Validation Accuracy 9.466666666666667\n",
      "Loss in Validation 5279.766778790208\n",
      "Epoch: 1\n",
      "Train Accuracy 8.572222222222223\n",
      "Loss in Training 27984.893938541518\n",
      "Validation Accuracy 9.466666666666667\n",
      "Loss in Validation 5279.75579364791\n",
      "Epoch: 2\n",
      "Train Accuracy 8.574074074074074\n",
      "Loss in Training 27984.795360570086\n",
      "Validation Accuracy 9.466666666666667\n",
      "Loss in Validation 5279.744808760814\n",
      "Epoch: 3\n",
      "Train Accuracy 8.575925925925926\n",
      "Loss in Training 27984.696784858617\n",
      "Validation Accuracy 9.466666666666667\n",
      "Loss in Validation 5279.733824128919\n",
      "Epoch: 4\n",
      "Train Accuracy 8.577777777777778\n",
      "Loss in Training 27984.59821140704\n",
      "Validation Accuracy 9.466666666666667\n",
      "Loss in Validation 5279.722839752222\n",
      "Epoch: 5\n",
      "Train Accuracy 8.577777777777778\n",
      "Loss in Training 27984.49964021539\n",
      "Validation Accuracy 9.466666666666667\n",
      "Loss in Validation 5279.711855630721\n",
      "Epoch: 6\n",
      "Train Accuracy 8.575925925925926\n",
      "Loss in Training 27984.40107128358\n",
      "Validation Accuracy 9.466666666666667\n",
      "Loss in Validation 5279.700871764415\n",
      "Epoch: 7\n",
      "Train Accuracy 8.575925925925926\n",
      "Loss in Training 27984.3025046117\n",
      "Validation Accuracy 9.466666666666667\n",
      "Loss in Validation 5279.689888153299\n",
      "Epoch: 8\n",
      "Train Accuracy 8.577777777777778\n",
      "Loss in Training 27984.203940199644\n",
      "Validation Accuracy 9.466666666666667\n",
      "Loss in Validation 5279.6789047973725\n",
      "Epoch: 9\n",
      "Train Accuracy 8.57962962962963\n",
      "Loss in Training 27984.10537804746\n",
      "Validation Accuracy 9.466666666666667\n",
      "Loss in Validation 5279.667921696631\n"
     ]
    },
    {
     "name": "stderr",
     "output_type": "stream",
     "text": [
      "\u001b[34m\u001b[1mwandb\u001b[0m: Agent Starting Run: t8i6kuz2 with config:\n",
      "\u001b[34m\u001b[1mwandb\u001b[0m: \tactivation: Tanh\n",
      "\u001b[34m\u001b[1mwandb\u001b[0m: \tbatch_size: 160\n",
      "\u001b[34m\u001b[1mwandb\u001b[0m: \tlearning_rate: 0.001\n",
      "\u001b[34m\u001b[1mwandb\u001b[0m: \tloss: CE\n",
      "\u001b[34m\u001b[1mwandb\u001b[0m: \tnum_epochs: 10\n",
      "\u001b[34m\u001b[1mwandb\u001b[0m: \tnum_hidden_layers: 4\n",
      "\u001b[34m\u001b[1mwandb\u001b[0m: \toptimizer: Nag\n",
      "\u001b[34m\u001b[1mwandb\u001b[0m: \tsize_hidden_layer: 64\n",
      "\u001b[34m\u001b[1mwandb\u001b[0m: \tweight_init: Xavier\n"
     ]
    },
    {
     "data": {
      "text/html": [
       "\n",
       "                    Syncing run <strong><a href=\"https://wandb.ai/vishal91099/Detail-1/runs/t8i6kuz2\" target=\"_blank\">northern-sweep-16</a></strong> to <a href=\"https://wandb.ai/vishal91099/Detail-1\" target=\"_blank\">Weights & Biases</a> (<a href=\"https://docs.wandb.com/integrations/jupyter.html\" target=\"_blank\">docs</a>).<br/>\n",
       "Sweep page: <a href=\"https://wandb.ai/vishal91099/Detail-1/sweeps/e8k0srji\" target=\"_blank\">https://wandb.ai/vishal91099/Detail-1/sweeps/e8k0srji</a><br/>\n",
       "\n",
       "                "
      ],
      "text/plain": [
       "<IPython.core.display.HTML object>"
      ]
     },
     "metadata": {},
     "output_type": "display_data"
    },
    {
     "data": {
      "text/html": [
       "Finishing last run (ID:t8i6kuz2) before initializing another..."
      ],
      "text/plain": [
       "<IPython.core.display.HTML object>"
      ]
     },
     "metadata": {},
     "output_type": "display_data"
    },
    {
     "data": {
      "text/html": [
       "<br/>Waiting for W&B process to finish, PID 7336... <strong style=\"color:green\">(success).</strong>"
      ],
      "text/plain": [
       "<IPython.core.display.HTML object>"
      ]
     },
     "metadata": {},
     "output_type": "display_data"
    },
    {
     "data": {
      "application/vnd.jupyter.widget-view+json": {
       "model_id": "",
       "version_major": 2,
       "version_minor": 0
      },
      "text/plain": [
       "VBox(children=(Label(value=' 0.00MB of 0.00MB uploaded (0.00MB deduped)\\r'), FloatProgress(value=1.0, max=1.0)…"
      ]
     },
     "metadata": {},
     "output_type": "display_data"
    },
    {
     "data": {
      "text/html": [
       "<style>\n",
       "    table.wandb td:nth-child(1) { padding: 0 10px; text-align: right }\n",
       "    .wandb-row { display: flex; flex-direction: row; flex-wrap: wrap; width: 100% }\n",
       "    .wandb-col { display: flex; flex-direction: column; flex-basis: 100%; flex: 1; padding: 10px; }\n",
       "    </style>\n",
       "<div class=\"wandb-row\"><div class=\"wandb-col\">\n",
       "</div><div class=\"wandb-col\">\n",
       "</div></div>\n",
       "Synced 4 W&B file(s), 0 media file(s), 0 artifact file(s) and 0 other file(s)\n",
       "<br/>Synced <strong style=\"color:#cdcd00\">northern-sweep-16</strong>: <a href=\"https://wandb.ai/vishal91099/Detail-1/runs/t8i6kuz2\" target=\"_blank\">https://wandb.ai/vishal91099/Detail-1/runs/t8i6kuz2</a><br/>\n",
       "Find logs at: <code>.\\wandb\\run-20220224_141638-t8i6kuz2\\logs</code><br/>\n"
      ],
      "text/plain": [
       "<IPython.core.display.HTML object>"
      ]
     },
     "metadata": {},
     "output_type": "display_data"
    },
    {
     "data": {
      "text/html": [
       "Successfully finished last run (ID:t8i6kuz2). Initializing new run:<br/>"
      ],
      "text/plain": [
       "<IPython.core.display.HTML object>"
      ]
     },
     "metadata": {},
     "output_type": "display_data"
    },
    {
     "data": {
      "text/html": [
       "\n",
       "                    Syncing run <strong><a href=\"https://wandb.ai/vishal91099/Detail-1/runs/t8i6kuz2\" target=\"_blank\">northern-sweep-16</a></strong> to <a href=\"https://wandb.ai/vishal91099/Detail-1\" target=\"_blank\">Weights & Biases</a> (<a href=\"https://docs.wandb.com/integrations/jupyter.html\" target=\"_blank\">docs</a>).<br/>\n",
       "Sweep page: <a href=\"https://wandb.ai/vishal91099/Detail-1/sweeps/e8k0srji\" target=\"_blank\">https://wandb.ai/vishal91099/Detail-1/sweeps/e8k0srji</a><br/>\n",
       "\n",
       "                "
      ],
      "text/plain": [
       "<IPython.core.display.HTML object>"
      ]
     },
     "metadata": {},
     "output_type": "display_data"
    },
    {
     "name": "stdout",
     "output_type": "stream",
     "text": [
      "Epoch: 0\n",
      "Train Accuracy 10.981481481481481\n",
      "Loss in Training 27685.070549630447\n",
      "Validation Accuracy 11.116666666666667\n",
      "Loss in Validation 5247.371164998156\n",
      "Epoch: 1\n",
      "Train Accuracy 10.981481481481481\n",
      "Loss in Training 27685.01292725231\n",
      "Validation Accuracy 11.133333333333335\n",
      "Loss in Validation 5247.364759597676\n",
      "Epoch: 2\n",
      "Train Accuracy 10.981481481481481\n",
      "Loss in Training 27684.955452151964\n",
      "Validation Accuracy 11.133333333333335\n",
      "Loss in Validation 5247.358354258333\n",
      "Epoch: 3\n",
      "Train Accuracy 10.981481481481481\n",
      "Loss in Training 27684.8979775963\n",
      "Validation Accuracy 11.133333333333335\n",
      "Loss in Validation 5247.351948980128\n",
      "Epoch: 4\n",
      "Train Accuracy 10.983333333333334\n",
      "Loss in Training 27684.84050358537\n",
      "Validation Accuracy 11.133333333333335\n",
      "Loss in Validation 5247.345543763061\n",
      "Epoch: 5\n",
      "Train Accuracy 10.985185185185186\n",
      "Loss in Training 27684.783030119157\n",
      "Validation Accuracy 11.133333333333335\n",
      "Loss in Validation 5247.339138607136\n",
      "Epoch: 6\n",
      "Train Accuracy 10.985185185185186\n",
      "Loss in Training 27684.725557197722\n",
      "Validation Accuracy 11.133333333333335\n",
      "Loss in Validation 5247.332733512354\n",
      "Epoch: 7\n",
      "Train Accuracy 10.988888888888889\n",
      "Loss in Training 27684.668084821024\n",
      "Validation Accuracy 11.133333333333335\n",
      "Loss in Validation 5247.326328478717\n",
      "Epoch: 8\n",
      "Train Accuracy 10.99074074074074\n",
      "Loss in Training 27684.610612989112\n",
      "Validation Accuracy 11.15\n",
      "Loss in Validation 5247.319923506226\n",
      "Epoch: 9\n",
      "Train Accuracy 10.99074074074074\n",
      "Loss in Training 27684.553141702017\n",
      "Validation Accuracy 11.15\n",
      "Loss in Validation 5247.313518594881\n"
     ]
    },
    {
     "name": "stderr",
     "output_type": "stream",
     "text": [
      "\u001b[34m\u001b[1mwandb\u001b[0m: Agent Starting Run: lcit7vpz with config:\n",
      "\u001b[34m\u001b[1mwandb\u001b[0m: \tactivation: Tanh\n",
      "\u001b[34m\u001b[1mwandb\u001b[0m: \tbatch_size: 160\n",
      "\u001b[34m\u001b[1mwandb\u001b[0m: \tlearning_rate: 0.001\n",
      "\u001b[34m\u001b[1mwandb\u001b[0m: \tloss: CE\n",
      "\u001b[34m\u001b[1mwandb\u001b[0m: \tnum_epochs: 10\n",
      "\u001b[34m\u001b[1mwandb\u001b[0m: \tnum_hidden_layers: 4\n",
      "\u001b[34m\u001b[1mwandb\u001b[0m: \toptimizer: Nag\n",
      "\u001b[34m\u001b[1mwandb\u001b[0m: \tsize_hidden_layer: 128\n",
      "\u001b[34m\u001b[1mwandb\u001b[0m: \tweight_init: RandomNormal\n"
     ]
    },
    {
     "data": {
      "text/html": [
       "\n",
       "                    Syncing run <strong><a href=\"https://wandb.ai/vishal91099/Detail-1/runs/lcit7vpz\" target=\"_blank\">easy-sweep-17</a></strong> to <a href=\"https://wandb.ai/vishal91099/Detail-1\" target=\"_blank\">Weights & Biases</a> (<a href=\"https://docs.wandb.com/integrations/jupyter.html\" target=\"_blank\">docs</a>).<br/>\n",
       "Sweep page: <a href=\"https://wandb.ai/vishal91099/Detail-1/sweeps/e8k0srji\" target=\"_blank\">https://wandb.ai/vishal91099/Detail-1/sweeps/e8k0srji</a><br/>\n",
       "\n",
       "                "
      ],
      "text/plain": [
       "<IPython.core.display.HTML object>"
      ]
     },
     "metadata": {},
     "output_type": "display_data"
    },
    {
     "data": {
      "text/html": [
       "Finishing last run (ID:lcit7vpz) before initializing another..."
      ],
      "text/plain": [
       "<IPython.core.display.HTML object>"
      ]
     },
     "metadata": {},
     "output_type": "display_data"
    },
    {
     "data": {
      "text/html": [
       "<br/>Waiting for W&B process to finish, PID 11548... <strong style=\"color:green\">(success).</strong>"
      ],
      "text/plain": [
       "<IPython.core.display.HTML object>"
      ]
     },
     "metadata": {},
     "output_type": "display_data"
    },
    {
     "data": {
      "application/vnd.jupyter.widget-view+json": {
       "model_id": "",
       "version_major": 2,
       "version_minor": 0
      },
      "text/plain": [
       "VBox(children=(Label(value=' 0.00MB of 0.00MB uploaded (0.00MB deduped)\\r'), FloatProgress(value=1.0, max=1.0)…"
      ]
     },
     "metadata": {},
     "output_type": "display_data"
    },
    {
     "data": {
      "text/html": [
       "<style>\n",
       "    table.wandb td:nth-child(1) { padding: 0 10px; text-align: right }\n",
       "    .wandb-row { display: flex; flex-direction: row; flex-wrap: wrap; width: 100% }\n",
       "    .wandb-col { display: flex; flex-direction: column; flex-basis: 100%; flex: 1; padding: 10px; }\n",
       "    </style>\n",
       "<div class=\"wandb-row\"><div class=\"wandb-col\">\n",
       "</div><div class=\"wandb-col\">\n",
       "</div></div>\n",
       "Synced 4 W&B file(s), 0 media file(s), 0 artifact file(s) and 0 other file(s)\n",
       "<br/>Synced <strong style=\"color:#cdcd00\">easy-sweep-17</strong>: <a href=\"https://wandb.ai/vishal91099/Detail-1/runs/lcit7vpz\" target=\"_blank\">https://wandb.ai/vishal91099/Detail-1/runs/lcit7vpz</a><br/>\n",
       "Find logs at: <code>.\\wandb\\run-20220224_141926-lcit7vpz\\logs</code><br/>\n"
      ],
      "text/plain": [
       "<IPython.core.display.HTML object>"
      ]
     },
     "metadata": {},
     "output_type": "display_data"
    },
    {
     "data": {
      "text/html": [
       "Successfully finished last run (ID:lcit7vpz). Initializing new run:<br/>"
      ],
      "text/plain": [
       "<IPython.core.display.HTML object>"
      ]
     },
     "metadata": {},
     "output_type": "display_data"
    },
    {
     "data": {
      "text/html": [
       "\n",
       "                    Syncing run <strong><a href=\"https://wandb.ai/vishal91099/Detail-1/runs/lcit7vpz\" target=\"_blank\">easy-sweep-17</a></strong> to <a href=\"https://wandb.ai/vishal91099/Detail-1\" target=\"_blank\">Weights & Biases</a> (<a href=\"https://docs.wandb.com/integrations/jupyter.html\" target=\"_blank\">docs</a>).<br/>\n",
       "Sweep page: <a href=\"https://wandb.ai/vishal91099/Detail-1/sweeps/e8k0srji\" target=\"_blank\">https://wandb.ai/vishal91099/Detail-1/sweeps/e8k0srji</a><br/>\n",
       "\n",
       "                "
      ],
      "text/plain": [
       "<IPython.core.display.HTML object>"
      ]
     },
     "metadata": {},
     "output_type": "display_data"
    },
    {
     "name": "stdout",
     "output_type": "stream",
     "text": [
      "Epoch: 0\n",
      "Train Accuracy 10.816666666666666\n",
      "Loss in Training 27718.075155592847\n",
      "Validation Accuracy 11.1\n",
      "Loss in Validation 5250.352914973851\n",
      "Epoch: 1\n",
      "Train Accuracy 10.816666666666666\n",
      "Loss in Training 27717.947925769055\n",
      "Validation Accuracy 11.1\n",
      "Loss in Validation 5250.338786947971\n",
      "Epoch: 2\n",
      "Train Accuracy 10.820370370370371\n",
      "Loss in Training 27717.821053542903\n",
      "Validation Accuracy 11.1\n",
      "Loss in Validation 5250.324659231359\n",
      "Epoch: 3\n",
      "Train Accuracy 10.822222222222223\n",
      "Loss in Training 27717.69418409044\n",
      "Validation Accuracy 11.1\n",
      "Loss in Validation 5250.31053182401\n",
      "Epoch: 4\n",
      "Train Accuracy 10.822222222222223\n",
      "Loss in Training 27717.567317411682\n",
      "Validation Accuracy 11.1\n",
      "Loss in Validation 5250.296404725919\n",
      "Epoch: 5\n",
      "Train Accuracy 10.822222222222223\n",
      "Loss in Training 27717.44045350651\n",
      "Validation Accuracy 11.1\n",
      "Loss in Validation 5250.282277937085\n",
      "Epoch: 6\n",
      "Train Accuracy 10.822222222222223\n",
      "Loss in Training 27717.313592374936\n",
      "Validation Accuracy 11.1\n",
      "Loss in Validation 5250.268151457502\n",
      "Epoch: 7\n",
      "Train Accuracy 10.822222222222223\n",
      "Loss in Training 27717.18673401692\n",
      "Validation Accuracy 11.1\n",
      "Loss in Validation 5250.254025287167\n",
      "Epoch: 8\n",
      "Train Accuracy 10.824074074074073\n",
      "Loss in Training 27717.05987843245\n",
      "Validation Accuracy 11.1\n",
      "Loss in Validation 5250.239899426075\n",
      "Epoch: 9\n",
      "Train Accuracy 10.825925925925926\n",
      "Loss in Training 27716.933025621467\n",
      "Validation Accuracy 11.1\n",
      "Loss in Validation 5250.225773874222\n"
     ]
    },
    {
     "name": "stderr",
     "output_type": "stream",
     "text": [
      "\u001b[34m\u001b[1mwandb\u001b[0m: Agent Starting Run: gpe0jq3t with config:\n",
      "\u001b[34m\u001b[1mwandb\u001b[0m: \tactivation: Tanh\n",
      "\u001b[34m\u001b[1mwandb\u001b[0m: \tbatch_size: 160\n",
      "\u001b[34m\u001b[1mwandb\u001b[0m: \tlearning_rate: 0.001\n",
      "\u001b[34m\u001b[1mwandb\u001b[0m: \tloss: CE\n",
      "\u001b[34m\u001b[1mwandb\u001b[0m: \tnum_epochs: 10\n",
      "\u001b[34m\u001b[1mwandb\u001b[0m: \tnum_hidden_layers: 4\n",
      "\u001b[34m\u001b[1mwandb\u001b[0m: \toptimizer: Nag\n",
      "\u001b[34m\u001b[1mwandb\u001b[0m: \tsize_hidden_layer: 128\n",
      "\u001b[34m\u001b[1mwandb\u001b[0m: \tweight_init: Xavier\n"
     ]
    },
    {
     "data": {
      "text/html": [
       "\n",
       "                    Syncing run <strong><a href=\"https://wandb.ai/vishal91099/Detail-1/runs/gpe0jq3t\" target=\"_blank\">icy-sweep-18</a></strong> to <a href=\"https://wandb.ai/vishal91099/Detail-1\" target=\"_blank\">Weights & Biases</a> (<a href=\"https://docs.wandb.com/integrations/jupyter.html\" target=\"_blank\">docs</a>).<br/>\n",
       "Sweep page: <a href=\"https://wandb.ai/vishal91099/Detail-1/sweeps/e8k0srji\" target=\"_blank\">https://wandb.ai/vishal91099/Detail-1/sweeps/e8k0srji</a><br/>\n",
       "\n",
       "                "
      ],
      "text/plain": [
       "<IPython.core.display.HTML object>"
      ]
     },
     "metadata": {},
     "output_type": "display_data"
    },
    {
     "data": {
      "text/html": [
       "Finishing last run (ID:gpe0jq3t) before initializing another..."
      ],
      "text/plain": [
       "<IPython.core.display.HTML object>"
      ]
     },
     "metadata": {},
     "output_type": "display_data"
    },
    {
     "data": {
      "text/html": [
       "<br/>Waiting for W&B process to finish, PID 16908... <strong style=\"color:green\">(success).</strong>"
      ],
      "text/plain": [
       "<IPython.core.display.HTML object>"
      ]
     },
     "metadata": {},
     "output_type": "display_data"
    },
    {
     "data": {
      "application/vnd.jupyter.widget-view+json": {
       "model_id": "",
       "version_major": 2,
       "version_minor": 0
      },
      "text/plain": [
       "VBox(children=(Label(value=' 0.00MB of 0.00MB uploaded (0.00MB deduped)\\r'), FloatProgress(value=1.0, max=1.0)…"
      ]
     },
     "metadata": {},
     "output_type": "display_data"
    },
    {
     "data": {
      "text/html": [
       "<style>\n",
       "    table.wandb td:nth-child(1) { padding: 0 10px; text-align: right }\n",
       "    .wandb-row { display: flex; flex-direction: row; flex-wrap: wrap; width: 100% }\n",
       "    .wandb-col { display: flex; flex-direction: column; flex-basis: 100%; flex: 1; padding: 10px; }\n",
       "    </style>\n",
       "<div class=\"wandb-row\"><div class=\"wandb-col\">\n",
       "</div><div class=\"wandb-col\">\n",
       "</div></div>\n",
       "Synced 4 W&B file(s), 0 media file(s), 0 artifact file(s) and 0 other file(s)\n",
       "<br/>Synced <strong style=\"color:#cdcd00\">icy-sweep-18</strong>: <a href=\"https://wandb.ai/vishal91099/Detail-1/runs/gpe0jq3t\" target=\"_blank\">https://wandb.ai/vishal91099/Detail-1/runs/gpe0jq3t</a><br/>\n",
       "Find logs at: <code>.\\wandb\\run-20220224_142235-gpe0jq3t\\logs</code><br/>\n"
      ],
      "text/plain": [
       "<IPython.core.display.HTML object>"
      ]
     },
     "metadata": {},
     "output_type": "display_data"
    },
    {
     "data": {
      "text/html": [
       "Successfully finished last run (ID:gpe0jq3t). Initializing new run:<br/>"
      ],
      "text/plain": [
       "<IPython.core.display.HTML object>"
      ]
     },
     "metadata": {},
     "output_type": "display_data"
    },
    {
     "data": {
      "text/html": [
       "\n",
       "                    Syncing run <strong><a href=\"https://wandb.ai/vishal91099/Detail-1/runs/gpe0jq3t\" target=\"_blank\">icy-sweep-18</a></strong> to <a href=\"https://wandb.ai/vishal91099/Detail-1\" target=\"_blank\">Weights & Biases</a> (<a href=\"https://docs.wandb.com/integrations/jupyter.html\" target=\"_blank\">docs</a>).<br/>\n",
       "Sweep page: <a href=\"https://wandb.ai/vishal91099/Detail-1/sweeps/e8k0srji\" target=\"_blank\">https://wandb.ai/vishal91099/Detail-1/sweeps/e8k0srji</a><br/>\n",
       "\n",
       "                "
      ],
      "text/plain": [
       "<IPython.core.display.HTML object>"
      ]
     },
     "metadata": {},
     "output_type": "display_data"
    },
    {
     "name": "stdout",
     "output_type": "stream",
     "text": [
      "Epoch: 0\n",
      "Train Accuracy 10.583333333333334\n",
      "Loss in Training 27322.36698942057\n",
      "Validation Accuracy 11.1\n",
      "Loss in Validation 5209.184070246649\n",
      "Epoch: 1\n",
      "Train Accuracy 10.585185185185185\n",
      "Loss in Training 27322.287566107567\n",
      "Validation Accuracy 11.1\n",
      "Loss in Validation 5209.175284745655\n",
      "Epoch: 2\n",
      "Train Accuracy 10.587037037037037\n",
      "Loss in Training 27322.208347200267\n",
      "Validation Accuracy 11.1\n",
      "Loss in Validation 5209.166499383619\n",
      "Epoch: 3\n",
      "Train Accuracy 10.588888888888889\n",
      "Loss in Training 27322.129129553618\n",
      "Validation Accuracy 11.1\n",
      "Loss in Validation 5209.157714160545\n",
      "Epoch: 4\n",
      "Train Accuracy 10.59074074074074\n",
      "Loss in Training 27322.04991316767\n",
      "Validation Accuracy 11.1\n",
      "Loss in Validation 5209.148929076425\n",
      "Epoch: 5\n",
      "Train Accuracy 10.59074074074074\n",
      "Loss in Training 27321.97069804234\n",
      "Validation Accuracy 11.1\n",
      "Loss in Validation 5209.14014413126\n",
      "Epoch: 6\n",
      "Train Accuracy 10.592592592592592\n",
      "Loss in Training 27321.89148417768\n",
      "Validation Accuracy 11.1\n",
      "Loss in Validation 5209.131359325049\n",
      "Epoch: 7\n",
      "Train Accuracy 10.592592592592592\n",
      "Loss in Training 27321.812271573646\n",
      "Validation Accuracy 11.1\n",
      "Loss in Validation 5209.122574657791\n",
      "Epoch: 8\n",
      "Train Accuracy 10.594444444444443\n",
      "Loss in Training 27321.733060230275\n",
      "Validation Accuracy 11.1\n",
      "Loss in Validation 5209.113790129485\n",
      "Epoch: 9\n",
      "Train Accuracy 10.594444444444443\n",
      "Loss in Training 27321.653850147504\n",
      "Validation Accuracy 11.1\n",
      "Loss in Validation 5209.105005740128\n"
     ]
    },
    {
     "name": "stderr",
     "output_type": "stream",
     "text": [
      "\u001b[34m\u001b[1mwandb\u001b[0m: Sweep Agent: Waiting for job.\n",
      "\u001b[34m\u001b[1mwandb\u001b[0m: Job received.\n",
      "\u001b[34m\u001b[1mwandb\u001b[0m: Agent Starting Run: pirv8rk8 with config:\n",
      "\u001b[34m\u001b[1mwandb\u001b[0m: \tactivation: Tanh\n",
      "\u001b[34m\u001b[1mwandb\u001b[0m: \tbatch_size: 160\n",
      "\u001b[34m\u001b[1mwandb\u001b[0m: \tlearning_rate: 0.001\n",
      "\u001b[34m\u001b[1mwandb\u001b[0m: \tloss: CE\n",
      "\u001b[34m\u001b[1mwandb\u001b[0m: \tnum_epochs: 10\n",
      "\u001b[34m\u001b[1mwandb\u001b[0m: \tnum_hidden_layers: 4\n",
      "\u001b[34m\u001b[1mwandb\u001b[0m: \toptimizer: RMSProp\n",
      "\u001b[34m\u001b[1mwandb\u001b[0m: \tsize_hidden_layer: 32\n",
      "\u001b[34m\u001b[1mwandb\u001b[0m: \tweight_init: RandomNormal\n"
     ]
    },
    {
     "data": {
      "text/html": [
       "\n",
       "                    Syncing run <strong><a href=\"https://wandb.ai/vishal91099/Detail-1/runs/pirv8rk8\" target=\"_blank\">worthy-sweep-19</a></strong> to <a href=\"https://wandb.ai/vishal91099/Detail-1\" target=\"_blank\">Weights & Biases</a> (<a href=\"https://docs.wandb.com/integrations/jupyter.html\" target=\"_blank\">docs</a>).<br/>\n",
       "Sweep page: <a href=\"https://wandb.ai/vishal91099/Detail-1/sweeps/e8k0srji\" target=\"_blank\">https://wandb.ai/vishal91099/Detail-1/sweeps/e8k0srji</a><br/>\n",
       "\n",
       "                "
      ],
      "text/plain": [
       "<IPython.core.display.HTML object>"
      ]
     },
     "metadata": {},
     "output_type": "display_data"
    },
    {
     "data": {
      "text/html": [
       "Finishing last run (ID:pirv8rk8) before initializing another..."
      ],
      "text/plain": [
       "<IPython.core.display.HTML object>"
      ]
     },
     "metadata": {},
     "output_type": "display_data"
    },
    {
     "data": {
      "text/html": [
       "<br/>Waiting for W&B process to finish, PID 14168... <strong style=\"color:green\">(success).</strong>"
      ],
      "text/plain": [
       "<IPython.core.display.HTML object>"
      ]
     },
     "metadata": {},
     "output_type": "display_data"
    },
    {
     "data": {
      "application/vnd.jupyter.widget-view+json": {
       "model_id": "",
       "version_major": 2,
       "version_minor": 0
      },
      "text/plain": [
       "VBox(children=(Label(value=' 0.00MB of 0.00MB uploaded (0.00MB deduped)\\r'), FloatProgress(value=1.0, max=1.0)…"
      ]
     },
     "metadata": {},
     "output_type": "display_data"
    },
    {
     "data": {
      "text/html": [
       "<style>\n",
       "    table.wandb td:nth-child(1) { padding: 0 10px; text-align: right }\n",
       "    .wandb-row { display: flex; flex-direction: row; flex-wrap: wrap; width: 100% }\n",
       "    .wandb-col { display: flex; flex-direction: column; flex-basis: 100%; flex: 1; padding: 10px; }\n",
       "    </style>\n",
       "<div class=\"wandb-row\"><div class=\"wandb-col\">\n",
       "</div><div class=\"wandb-col\">\n",
       "</div></div>\n",
       "Synced 4 W&B file(s), 0 media file(s), 0 artifact file(s) and 0 other file(s)\n",
       "<br/>Synced <strong style=\"color:#cdcd00\">worthy-sweep-19</strong>: <a href=\"https://wandb.ai/vishal91099/Detail-1/runs/pirv8rk8\" target=\"_blank\">https://wandb.ai/vishal91099/Detail-1/runs/pirv8rk8</a><br/>\n",
       "Find logs at: <code>.\\wandb\\run-20220224_142559-pirv8rk8\\logs</code><br/>\n"
      ],
      "text/plain": [
       "<IPython.core.display.HTML object>"
      ]
     },
     "metadata": {},
     "output_type": "display_data"
    },
    {
     "data": {
      "text/html": [
       "Successfully finished last run (ID:pirv8rk8). Initializing new run:<br/>"
      ],
      "text/plain": [
       "<IPython.core.display.HTML object>"
      ]
     },
     "metadata": {},
     "output_type": "display_data"
    },
    {
     "data": {
      "text/html": [
       "\n",
       "                    Syncing run <strong><a href=\"https://wandb.ai/vishal91099/Detail-1/runs/pirv8rk8\" target=\"_blank\">worthy-sweep-19</a></strong> to <a href=\"https://wandb.ai/vishal91099/Detail-1\" target=\"_blank\">Weights & Biases</a> (<a href=\"https://docs.wandb.com/integrations/jupyter.html\" target=\"_blank\">docs</a>).<br/>\n",
       "Sweep page: <a href=\"https://wandb.ai/vishal91099/Detail-1/sweeps/e8k0srji\" target=\"_blank\">https://wandb.ai/vishal91099/Detail-1/sweeps/e8k0srji</a><br/>\n",
       "\n",
       "                "
      ],
      "text/plain": [
       "<IPython.core.display.HTML object>"
      ]
     },
     "metadata": {},
     "output_type": "display_data"
    },
    {
     "name": "stderr",
     "output_type": "stream",
     "text": [
      "\u001b[34m\u001b[1mwandb\u001b[0m: \u001b[32m\u001b[41mERROR\u001b[0m Run pirv8rk8 errored: TypeError(\"unsupported operand type(s) for -: 'list' and 'list'\",)\n",
      "\u001b[34m\u001b[1mwandb\u001b[0m: Agent Starting Run: uje26de0 with config:\n",
      "\u001b[34m\u001b[1mwandb\u001b[0m: \tactivation: Tanh\n",
      "\u001b[34m\u001b[1mwandb\u001b[0m: \tbatch_size: 160\n",
      "\u001b[34m\u001b[1mwandb\u001b[0m: \tlearning_rate: 0.001\n",
      "\u001b[34m\u001b[1mwandb\u001b[0m: \tloss: CE\n",
      "\u001b[34m\u001b[1mwandb\u001b[0m: \tnum_epochs: 10\n",
      "\u001b[34m\u001b[1mwandb\u001b[0m: \tnum_hidden_layers: 4\n",
      "\u001b[34m\u001b[1mwandb\u001b[0m: \toptimizer: RMSProp\n",
      "\u001b[34m\u001b[1mwandb\u001b[0m: \tsize_hidden_layer: 32\n",
      "\u001b[34m\u001b[1mwandb\u001b[0m: \tweight_init: Xavier\n"
     ]
    },
    {
     "name": "stdout",
     "output_type": "stream",
     "text": [
      "Problem at: <ipython-input-3-bd06879fe522> 20 train_nn\n"
     ]
    },
    {
     "name": "stderr",
     "output_type": "stream",
     "text": [
      "Traceback (most recent call last):\n",
      "  File \"C:\\Users\\Manish\\Anaconda3\\lib\\site-packages\\wandb\\sdk\\wandb_init.py\", line 951, in init\n",
      "    run = wi.init()\n",
      "  File \"C:\\Users\\Manish\\Anaconda3\\lib\\site-packages\\wandb\\sdk\\wandb_init.py\", line 597, in init\n",
      "    ret = backend.interface.communicate_run(run, timeout=30)\n",
      "  File \"C:\\Users\\Manish\\Anaconda3\\lib\\site-packages\\wandb\\sdk\\interface\\interface.py\", line 210, in communicate_run\n",
      "    return self._communicate_run(run, timeout=timeout)\n",
      "  File \"C:\\Users\\Manish\\Anaconda3\\lib\\site-packages\\wandb\\sdk\\interface\\interface_shared.py\", line 311, in _communicate_run\n",
      "    resp = self._communicate(req, timeout=timeout)\n",
      "  File \"C:\\Users\\Manish\\Anaconda3\\lib\\site-packages\\wandb\\sdk\\interface\\interface_shared.py\", line 213, in _communicate\n",
      "    return self._communicate_async(rec, local=local).get(timeout=timeout)\n",
      "  File \"C:\\Users\\Manish\\Anaconda3\\lib\\site-packages\\wandb\\sdk\\interface\\interface_shared.py\", line 218, in _communicate_async\n",
      "    raise Exception(\"The wandb backend process has shutdown\")\n",
      "Exception: The wandb backend process has shutdown\n",
      "\u001b[34m\u001b[1mwandb\u001b[0m: \u001b[32m\u001b[41mERROR\u001b[0m Abnormal program exit\n"
     ]
    }
   ],
   "source": [
    "only()"
   ]
  },
  {
   "cell_type": "code",
   "execution_count": null,
   "metadata": {},
   "outputs": [],
   "source": []
  },
  {
   "cell_type": "code",
   "execution_count": null,
   "metadata": {},
   "outputs": [],
   "source": []
  },
  {
   "cell_type": "code",
   "execution_count": null,
   "metadata": {},
   "outputs": [],
   "source": []
  },
  {
   "cell_type": "code",
   "execution_count": null,
   "metadata": {},
   "outputs": [],
   "source": []
  },
  {
   "cell_type": "code",
   "execution_count": null,
   "metadata": {},
   "outputs": [],
   "source": []
  }
 ],
 "metadata": {
  "colab": {
   "collapsed_sections": [],
   "name": "FFNN",
   "provenance": []
  },
  "kernelspec": {
   "display_name": "Python 3",
   "language": "python",
   "name": "python3"
  },
  "language_info": {
   "codemirror_mode": {
    "name": "ipython",
    "version": 3
   },
   "file_extension": ".py",
   "mimetype": "text/x-python",
   "name": "python",
   "nbconvert_exporter": "python",
   "pygments_lexer": "ipython3",
   "version": "3.6.5"
  }
 },
 "nbformat": 4,
 "nbformat_minor": 1
}
